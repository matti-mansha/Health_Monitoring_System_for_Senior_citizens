{
 "cells": [
  {
   "cell_type": "markdown",
   "id": "34d496ce",
   "metadata": {},
   "source": [
    "### Importing Libraries "
   ]
  },
  {
   "cell_type": "code",
   "execution_count": 1,
   "id": "d76d03bd",
   "metadata": {},
   "outputs": [],
   "source": [
    "import numpy as np\n",
    "import os\n",
    "import sys \n",
    "import re\n",
    "import shutil\n",
    "from zipfile import ZipFile"
   ]
  },
  {
   "cell_type": "markdown",
   "id": "cacbb57b",
   "metadata": {},
   "source": [
    "### Required Classes\n"
   ]
  },
  {
   "cell_type": "markdown",
   "id": "e2b0f2ec",
   "metadata": {},
   "source": [
    "A41: sneeze/cough\t<br>\n",
    "A42: staggering\t<br>\n",
    "A43: falling down\t<br>\n",
    "A44: headache <br>\n",
    "A45: chest pain\t<br>\n",
    "A46: back pain\t<br>\n",
    "A47: neck pain\t<br>\n",
    "A48: nausea/vomiting <br>\n",
    "A49: fan self\t<br>\n",
    "A103: yawn\t<br>\n",
    "A104: stretch oneself\t<br>\n",
    "A105: blow nose<br>"
   ]
  },
  {
   "cell_type": "code",
   "execution_count": 2,
   "id": "475daad3",
   "metadata": {},
   "outputs": [],
   "source": [
    "required_classes = \"A041|A042|A043|A044|A045|A046|A047|A048|A049|A103|A104|A105\""
   ]
  },
  {
   "cell_type": "code",
   "execution_count": 3,
   "id": "43b55fcd",
   "metadata": {},
   "outputs": [],
   "source": [
    "required_classes_list = [\"A041\", \"A042\", \"A043\", \"A044\", \"A045\", \"A046\", \"A047\", \"A048\", \"A049\", \"A103\", \"A104\", \"A105\"]"
   ]
  },
  {
   "cell_type": "code",
   "execution_count": null,
   "id": "19950a8a",
   "metadata": {},
   "outputs": [],
   "source": []
  },
  {
   "cell_type": "markdown",
   "id": "40bc7f21",
   "metadata": {},
   "source": [
    "### Correct path checker"
   ]
  },
  {
   "cell_type": "code",
   "execution_count": 4,
   "id": "1c84e8f5",
   "metadata": {},
   "outputs": [],
   "source": [
    "def is_path_exists(path):\n",
    "    if(os.path.exists(path)):\n",
    "        return True\n",
    "    else:\n",
    "        return False"
   ]
  },
  {
   "cell_type": "markdown",
   "id": "67ddfd3b",
   "metadata": {},
   "source": [
    "### Correct path maker"
   ]
  },
  {
   "cell_type": "code",
   "execution_count": 5,
   "id": "182d50d1",
   "metadata": {},
   "outputs": [],
   "source": [
    "def correct_path_maker(path):\n",
    "    if(path[-1] == \"\\\\\"):\n",
    "        return path\n",
    "    else:\n",
    "        return path + \"\\\\\""
   ]
  },
  {
   "cell_type": "markdown",
   "id": "323337e5",
   "metadata": {},
   "source": [
    "### Function for directory creating"
   ]
  },
  {
   "cell_type": "code",
   "execution_count": 6,
   "id": "251bacb5",
   "metadata": {},
   "outputs": [],
   "source": [
    "def directory_maker(destination, name):\n",
    "    \"\"\"\n",
    "    destination: Directory path in which sub-directory required\n",
    "    name: name to set for required sub-directory\n",
    "    \"\"\"\n",
    "    path = correct_path_maker(destination)\n",
    "    if(is_path_exists(destination)):\n",
    "        if (is_path_exists(path + name)):\n",
    "            pass\n",
    "        else:\n",
    "            os.mkdir(destination + name)            \n",
    "    else:\n",
    "        assert \"Wrong directory path!\""
   ]
  },
  {
   "cell_type": "code",
   "execution_count": 7,
   "id": "3df3281d",
   "metadata": {},
   "outputs": [],
   "source": [
    "# directory_maker(\"E:\\\\\", \"test1\")"
   ]
  },
  {
   "cell_type": "markdown",
   "id": "9957c396",
   "metadata": {},
   "source": [
    "### Unzipper method on RegEx"
   ]
  },
  {
   "cell_type": "code",
   "execution_count": 21,
   "id": "1d00f370",
   "metadata": {},
   "outputs": [],
   "source": [
    "def unzipper_on_condition_regex(source, destination, pattern):\n",
    "    \"\"\"\n",
    "    source: Directory path where multiple zip files are there\n",
    "    destination: Directory where you want to put unzipped files\n",
    "    pattern: RegEx pattern\n",
    "    name: Directory name of unziped file\n",
    "    \"\"\"\n",
    "\n",
    "    print(source)\n",
    "    print(destination)\n",
    "    \n",
    "    if(is_path_exists(source)):\n",
    "        print(\"path exists\")\n",
    "        with ZipFile(source, 'r') as zipObject:\n",
    "            listOfFileNames = zipObject.namelist()\n",
    "#             print(len(listOfFileNames))\n",
    "            required_files_name = [x for x in listOfFileNames if re.match(pattern, x)]\n",
    "            for file_name in required_files_name:\n",
    "                zipObject.extract(file_name, destination)"
   ]
  },
  {
   "cell_type": "code",
   "execution_count": 58,
   "id": "01ee6f90",
   "metadata": {},
   "outputs": [
    {
     "name": "stdout",
     "output_type": "stream",
     "text": [
      "E:\\Dataset\\Compressed\\nturgbd_rgb_s018.zip\n",
      "E:\\Dataset\\Compressed\\test1\n",
      "path exists\n",
      "2162\n"
     ]
    }
   ],
   "source": [
    "# unzipper_on_condition_regex(source, destination, pattern)"
   ]
  },
  {
   "cell_type": "markdown",
   "id": "891a25d7",
   "metadata": {},
   "source": [
    "### \"ls\" function"
   ]
  },
  {
   "cell_type": "code",
   "execution_count": 9,
   "id": "0de21d16",
   "metadata": {},
   "outputs": [],
   "source": [
    "def ls(path):\n",
    "    \"\"\"\n",
    "    path: path of required directory, want to know name of sub-directories\n",
    "    \"\"\"\n",
    "    if (is_path_exists(path)):\n",
    "        return os.listdir(path)"
   ]
  },
  {
   "cell_type": "code",
   "execution_count": 13,
   "id": "82b83445",
   "metadata": {},
   "outputs": [],
   "source": [
    "source = \"E:\\\\Dataset\\\\Compressed\"\n",
    "destination = \"D:\\\\Dataset\\\\Rose_lab\\\\required_dataset_rgb_videos\"\n",
    "pattern = '.*({})'.format(required_classes)"
   ]
  },
  {
   "cell_type": "markdown",
   "id": "16e7fcd9",
   "metadata": {},
   "source": [
    "### Helper method to unzip all zip files in a directory RGB clips"
   ]
  },
  {
   "cell_type": "code",
   "execution_count": 35,
   "id": "ed753170",
   "metadata": {},
   "outputs": [],
   "source": [
    "def helper1_rgb(source, destination, pattern):\n",
    "    file_names = ls(source)\n",
    "    zip_file_names = [x for x in file_names if re.match(\".*.zip\", x)]\n",
    "#     print(zip_file_names)\n",
    "    for file in zip_file_names:\n",
    "        file_path = correct_path_maker(source) + file\n",
    "        unzipper_on_condition_regex(file_path, re.sub(\".zip\", \"\", correct_path_maker(destination) + file), pattern)"
   ]
  },
  {
   "cell_type": "code",
   "execution_count": 36,
   "id": "56cd1689",
   "metadata": {},
   "outputs": [
    {
     "name": "stdout",
     "output_type": "stream",
     "text": [
      "E:\\Dataset\\Compressed\\nturgbd_rgb_s018.zip\n",
      "D:\\Dataset\\Rose_lab\\required_dataset_rgb_videos\\nturgbd_rgb_s018\n",
      "path exists\n",
      "E:\\Dataset\\Compressed\\nturgbd_rgb_s019.zip\n",
      "D:\\Dataset\\Rose_lab\\required_dataset_rgb_videos\\nturgbd_rgb_s019\n",
      "path exists\n",
      "E:\\Dataset\\Compressed\\nturgbd_rgb_s020.zip\n",
      "D:\\Dataset\\Rose_lab\\required_dataset_rgb_videos\\nturgbd_rgb_s020\n",
      "path exists\n",
      "E:\\Dataset\\Compressed\\nturgbd_rgb_s021.zip\n",
      "D:\\Dataset\\Rose_lab\\required_dataset_rgb_videos\\nturgbd_rgb_s021\n",
      "path exists\n",
      "E:\\Dataset\\Compressed\\nturgbd_rgb_s022.zip\n",
      "D:\\Dataset\\Rose_lab\\required_dataset_rgb_videos\\nturgbd_rgb_s022\n",
      "path exists\n",
      "E:\\Dataset\\Compressed\\nturgbd_rgb_s023.zip\n",
      "D:\\Dataset\\Rose_lab\\required_dataset_rgb_videos\\nturgbd_rgb_s023\n",
      "path exists\n",
      "E:\\Dataset\\Compressed\\nturgbd_rgb_s024.zip\n",
      "D:\\Dataset\\Rose_lab\\required_dataset_rgb_videos\\nturgbd_rgb_s024\n",
      "path exists\n",
      "E:\\Dataset\\Compressed\\nturgbd_rgb_s025.zip\n",
      "D:\\Dataset\\Rose_lab\\required_dataset_rgb_videos\\nturgbd_rgb_s025\n",
      "path exists\n",
      "E:\\Dataset\\Compressed\\nturgbd_rgb_s026.zip\n",
      "D:\\Dataset\\Rose_lab\\required_dataset_rgb_videos\\nturgbd_rgb_s026\n",
      "path exists\n",
      "E:\\Dataset\\Compressed\\nturgbd_rgb_s027.zip\n",
      "D:\\Dataset\\Rose_lab\\required_dataset_rgb_videos\\nturgbd_rgb_s027\n",
      "path exists\n",
      "E:\\Dataset\\Compressed\\nturgbd_rgb_s028.zip\n",
      "D:\\Dataset\\Rose_lab\\required_dataset_rgb_videos\\nturgbd_rgb_s028\n",
      "path exists\n",
      "E:\\Dataset\\Compressed\\nturgbd_rgb_s029.zip\n",
      "D:\\Dataset\\Rose_lab\\required_dataset_rgb_videos\\nturgbd_rgb_s029\n",
      "path exists\n",
      "E:\\Dataset\\Compressed\\nturgbd_rgb_s030.zip\n",
      "D:\\Dataset\\Rose_lab\\required_dataset_rgb_videos\\nturgbd_rgb_s030\n",
      "path exists\n",
      "E:\\Dataset\\Compressed\\nturgbd_rgb_s031.zip\n",
      "D:\\Dataset\\Rose_lab\\required_dataset_rgb_videos\\nturgbd_rgb_s031\n",
      "path exists\n",
      "E:\\Dataset\\Compressed\\nturgbd_rgb_s032.zip\n",
      "D:\\Dataset\\Rose_lab\\required_dataset_rgb_videos\\nturgbd_rgb_s032\n",
      "path exists\n"
     ]
    }
   ],
   "source": [
    "helper1_rgb(source, destination, pattern)"
   ]
  },
  {
   "cell_type": "code",
   "execution_count": null,
   "id": "9d73f927",
   "metadata": {},
   "outputs": [],
   "source": []
  },
  {
   "cell_type": "code",
   "execution_count": 74,
   "id": "e4fc1dd4",
   "metadata": {},
   "outputs": [],
   "source": [
    "source = \"D:\\\\Dataset\\\\Rose_lab\\\\required_dataset_rgb_videos\"\n",
    "destination = \"D:\\\\Dataset\\\\Rose_lab\\\\processed_data\""
   ]
  },
  {
   "cell_type": "code",
   "execution_count": 71,
   "id": "15d95c1d",
   "metadata": {},
   "outputs": [],
   "source": [
    "def helper2(source, destination):\n",
    "    for req_classes in required_classes_list:\n",
    "        print(req_classes)\n",
    "        directory_maker(correct_path_maker(destination), req_classes)\n",
    "\n",
    "    file_names = ls(source)\n",
    "    print(file_names)\n",
    "    directory_maker(correct_path_maker(destination), \"temp\")\n",
    "    \n",
    "    for file in file_names:\n",
    "        videos_name_file = ls(correct_path_maker(source) + file)\n",
    "        for vid in videos_name_file:\n",
    "            shutil.copy(correct_path_maker(source) + correct_path_maker(file) + vid, correct_path_maker(destination) + \"temp\")\n"
   ]
  },
  {
   "cell_type": "code",
   "execution_count": 72,
   "id": "9a3ab70c",
   "metadata": {},
   "outputs": [
    {
     "name": "stdout",
     "output_type": "stream",
     "text": [
      "A041\n",
      "A042\n",
      "A043\n",
      "A044\n",
      "A045\n",
      "A046\n",
      "A047\n",
      "A048\n",
      "A049\n",
      "A103\n",
      "A104\n",
      "A105\n",
      "['nturgbd_rgb_s001', 'nturgbd_rgb_s002', 'nturgbd_rgb_s003', 'nturgbd_rgb_s004', 'nturgbd_rgb_s005', 'nturgbd_rgb_s006', 'nturgbd_rgb_s007', 'nturgbd_rgb_s008', 'nturgbd_rgb_s009', 'nturgbd_rgb_s010', 'nturgbd_rgb_s011', 'nturgbd_rgb_s012', 'nturgbd_rgb_s013', 'nturgbd_rgb_s014', 'nturgbd_rgb_s015', 'nturgbd_rgb_s016', 'nturgbd_rgb_s017', 'nturgbd_rgb_s018', 'nturgbd_rgb_s019', 'nturgbd_rgb_s020', 'nturgbd_rgb_s021', 'nturgbd_rgb_s022', 'nturgbd_rgb_s023', 'nturgbd_rgb_s024', 'nturgbd_rgb_s025', 'nturgbd_rgb_s026', 'nturgbd_rgb_s027', 'nturgbd_rgb_s028', 'nturgbd_rgb_s029', 'nturgbd_rgb_s030', 'nturgbd_rgb_s031', 'nturgbd_rgb_s032']\n"
     ]
    }
   ],
   "source": [
    "helper2(source, destination)"
   ]
  },
  {
   "cell_type": "code",
   "execution_count": 76,
   "id": "1f2dabf7",
   "metadata": {},
   "outputs": [
    {
     "name": "stdout",
     "output_type": "stream",
     "text": [
      "11412\n"
     ]
    }
   ],
   "source": [
    "videos_name = ls(correct_path_maker(destination) + \"temp\")\n",
    "print(len(videos_name))"
   ]
  },
  {
   "cell_type": "code",
   "execution_count": 77,
   "id": "5e37875d",
   "metadata": {},
   "outputs": [
    {
     "data": {
      "text/plain": [
       "['A041',\n",
       " 'A042',\n",
       " 'A043',\n",
       " 'A044',\n",
       " 'A045',\n",
       " 'A046',\n",
       " 'A047',\n",
       " 'A048',\n",
       " 'A049',\n",
       " 'A103',\n",
       " 'A104',\n",
       " 'A105']"
      ]
     },
     "execution_count": 77,
     "metadata": {},
     "output_type": "execute_result"
    }
   ],
   "source": [
    "required_classes_list"
   ]
  },
  {
   "cell_type": "code",
   "execution_count": 82,
   "id": "fdb5ce4d",
   "metadata": {},
   "outputs": [],
   "source": [
    "source = \"D:\\\\Dataset\\\\Rose_lab\\\\processed_data\\\\temp\"\n",
    "destination = \"D:\\\\Dataset\\\\Rose_lab\\\\processed_data\\\\required_dataset_rgb_videos_combined_with_classes\""
   ]
  },
  {
   "cell_type": "code",
   "execution_count": 85,
   "id": "556cfbd5",
   "metadata": {},
   "outputs": [
    {
     "name": "stdout",
     "output_type": "stream",
     "text": [
      "A041\n",
      "D:\\Dataset\\Rose_lab\\processed_data\\required_dataset_rgb_videos_combined_with_classesA041\n",
      "A042\n",
      "D:\\Dataset\\Rose_lab\\processed_data\\required_dataset_rgb_videos_combined_with_classesA042\n",
      "A043\n",
      "D:\\Dataset\\Rose_lab\\processed_data\\required_dataset_rgb_videos_combined_with_classesA043\n",
      "A044\n",
      "D:\\Dataset\\Rose_lab\\processed_data\\required_dataset_rgb_videos_combined_with_classesA044\n",
      "A045\n",
      "D:\\Dataset\\Rose_lab\\processed_data\\required_dataset_rgb_videos_combined_with_classesA045\n",
      "A046\n",
      "D:\\Dataset\\Rose_lab\\processed_data\\required_dataset_rgb_videos_combined_with_classesA046\n",
      "A047\n",
      "D:\\Dataset\\Rose_lab\\processed_data\\required_dataset_rgb_videos_combined_with_classesA047\n",
      "A048\n",
      "D:\\Dataset\\Rose_lab\\processed_data\\required_dataset_rgb_videos_combined_with_classesA048\n",
      "A049\n",
      "D:\\Dataset\\Rose_lab\\processed_data\\required_dataset_rgb_videos_combined_with_classesA049\n",
      "A103\n",
      "D:\\Dataset\\Rose_lab\\processed_data\\required_dataset_rgb_videos_combined_with_classesA103\n",
      "A104\n",
      "D:\\Dataset\\Rose_lab\\processed_data\\required_dataset_rgb_videos_combined_with_classesA104\n",
      "A105\n",
      "D:\\Dataset\\Rose_lab\\processed_data\\required_dataset_rgb_videos_combined_with_classesA105\n"
     ]
    }
   ],
   "source": [
    "for x in required_classes_list:\n",
    "    print(x)\n",
    "    if (os.path.exists(correct_path_maker(destination) + x)):\n",
    "        print(destination + x)\n",
    "#         print(os.path.exists(source))\n",
    "        pattern = '.*({})'.format(x)\n",
    "        required_files_name = [x for x in videos_name if re.match(pattern, x)]\n",
    "        for vid in required_files_name:\n",
    "            shutil.copy(correct_path_maker(source) + vid, correct_path_maker(destination) + x)"
   ]
  },
  {
   "cell_type": "markdown",
   "id": "f2b3a787",
   "metadata": {},
   "source": [
    "<p> Done with RGB videos. Its time to filter .skeleton files</p>"
   ]
  },
  {
   "cell_type": "markdown",
   "id": "e2d3aaf2",
   "metadata": {},
   "source": [
    "### Skeleton file zip extraction"
   ]
  },
  {
   "cell_type": "code",
   "execution_count": 86,
   "id": "b47008bb",
   "metadata": {},
   "outputs": [],
   "source": [
    "source = \"D:\\\\Dataset\\\\Rose_lab\\\\NTU RGB+D - 3D Skeletons\"\n",
    "destination = \"D:\\\\Dataset\\\\Rose_lab\\\\required_dataset_skeletons\"\n",
    "pattern = '.*({})'.format(required_classes)"
   ]
  },
  {
   "cell_type": "markdown",
   "id": "f5ef2a54",
   "metadata": {},
   "source": [
    "### Unzipping"
   ]
  },
  {
   "cell_type": "code",
   "execution_count": 87,
   "id": "be67c64e",
   "metadata": {},
   "outputs": [],
   "source": [
    "def helper1_skeleton(source, destination, pattern):\n",
    "    file_names = ls(source)\n",
    "    print(\"file_names : {}\".format(file_names))\n",
    "    zip_file_names = [x for x in file_names if re.match(\".*.zip\", x)]\n",
    "    print(\"zip_file_names : {}\".format(zip_file_names))\n",
    "#     print(zip_file_names)\n",
    "    for file in zip_file_names:\n",
    "        file_path = correct_path_maker(source) + file\n",
    "        unzipper_on_condition_regex(file_path, re.sub(\".zip\", \"\", correct_path_maker(destination) + file), pattern)"
   ]
  },
  {
   "cell_type": "code",
   "execution_count": 88,
   "id": "80bd7457",
   "metadata": {},
   "outputs": [
    {
     "name": "stdout",
     "output_type": "stream",
     "text": [
      "file_names : ['nturgbd_skeletons_s001_to_s017.zip', 'nturgbd_skeletons_s018_to_s032.zip', 'Readme.txt']\n",
      "zip_file_names : ['nturgbd_skeletons_s001_to_s017.zip', 'nturgbd_skeletons_s018_to_s032.zip']\n",
      "D:\\Dataset\\Rose_lab\\NTU RGB+D - 3D Skeletons\\nturgbd_skeletons_s001_to_s017.zip\n",
      "D:\\Dataset\\Rose_lab\\required_dataset_skeletons\\nturgbd_skeletons_s001_to_s017\n",
      "path exists\n",
      "D:\\Dataset\\Rose_lab\\NTU RGB+D - 3D Skeletons\\nturgbd_skeletons_s018_to_s032.zip\n",
      "D:\\Dataset\\Rose_lab\\required_dataset_skeletons\\nturgbd_skeletons_s018_to_s032\n",
      "path exists\n"
     ]
    }
   ],
   "source": [
    "helper1_skeleton(source, destination, pattern)"
   ]
  },
  {
   "cell_type": "code",
   "execution_count": null,
   "id": "73297a86",
   "metadata": {},
   "outputs": [],
   "source": []
  },
  {
   "cell_type": "code",
   "execution_count": 97,
   "id": "f7eb1c92",
   "metadata": {},
   "outputs": [],
   "source": [
    "source = \"D:\\\\Dataset\\\\Rose_lab\\\\required_dataset_skeletons\"\n",
    "destination = \"D:\\\\Dataset\\\\Rose_lab\\\\processed_data\\\\required_dataset_skeleton_combined_with_classes\""
   ]
  },
  {
   "cell_type": "code",
   "execution_count": 98,
   "id": "43fca27f",
   "metadata": {},
   "outputs": [],
   "source": [
    "def helper2(source, destination):\n",
    "    file_names = ls(source)\n",
    "    print(file_names)\n",
    "    directory_maker(correct_path_maker(source), \"temp\")\n",
    "    \n",
    "    for file in file_names:\n",
    "        skeletons_name_file = ls(correct_path_maker(source) + file)\n",
    "        for skel in skeletons_name_file:\n",
    "            shutil.copy(correct_path_maker(source) + correct_path_maker(file) + skel, correct_path_maker(source) + \"temp\")"
   ]
  },
  {
   "cell_type": "code",
   "execution_count": 99,
   "id": "e8a7d7b6",
   "metadata": {},
   "outputs": [
    {
     "name": "stdout",
     "output_type": "stream",
     "text": [
      "['nturgbd_skeletons_s001_to_s017', 'nturgbd_skeletons_s018_to_s032']\n"
     ]
    }
   ],
   "source": [
    "helper2(source, destination)"
   ]
  },
  {
   "cell_type": "code",
   "execution_count": 172,
   "id": "2201f56f",
   "metadata": {},
   "outputs": [],
   "source": [
    "source = \"D:\\\\Dataset\\\\Rose_lab\\\\required_dataset_skeletons\\\\temp\"\n",
    "destination = \"D:\\\\Dataset\\\\Rose_lab\\\\processed_data\\\\required_dataset_skeleton_combined_with_classes\""
   ]
  },
  {
   "cell_type": "code",
   "execution_count": 173,
   "id": "68e96ce1",
   "metadata": {},
   "outputs": [],
   "source": [
    "def helper3(source, destination):\n",
    "    skeleton_file_names = ls(correct_path_maker(source))\n",
    "    print(len(skeleton_file_names))\n",
    "    for req_classes in required_classes_list:\n",
    "        print(req_classes)\n",
    "        directory_maker(correct_path_maker(destination), req_classes)\n",
    "    \n",
    "        if (os.path.exists(correct_path_maker(destination) + req_classes)):\n",
    "            print(correct_path_maker(destination) + req_classes)\n",
    "    #         print(os.path.exists(source))\n",
    "            pattern = '.*({})'.format(req_classes)\n",
    "            print(pattern)\n",
    "            print(req_classes)\n",
    "            required_files_name = [x for x in skeleton_file_names if re.match(pattern, x)]\n",
    "            print(len(required_files_name))\n",
    "            for skel in required_files_name:\n",
    "                shutil.copy(correct_path_maker(source) + skel, correct_path_maker(destination) + req_classes)"
   ]
  },
  {
   "cell_type": "code",
   "execution_count": 174,
   "id": "c36d7e0e",
   "metadata": {},
   "outputs": [
    {
     "name": "stdout",
     "output_type": "stream",
     "text": [
      "11412\n",
      "A041\n",
      "D:\\Dataset\\Rose_lab\\processed_data\\required_dataset_skeleton_combined_with_classes\\A041\n",
      ".*(A041)\n",
      "A041\n",
      "948\n",
      "A042\n",
      "D:\\Dataset\\Rose_lab\\processed_data\\required_dataset_skeleton_combined_with_classes\\A042\n",
      ".*(A042)\n",
      "A042\n",
      "948\n",
      "A043\n",
      "D:\\Dataset\\Rose_lab\\processed_data\\required_dataset_skeleton_combined_with_classes\\A043\n",
      ".*(A043)\n",
      "A043\n",
      "948\n",
      "A044\n",
      "D:\\Dataset\\Rose_lab\\processed_data\\required_dataset_skeleton_combined_with_classes\\A044\n",
      ".*(A044)\n",
      "A044\n",
      "948\n",
      "A045\n",
      "D:\\Dataset\\Rose_lab\\processed_data\\required_dataset_skeleton_combined_with_classes\\A045\n",
      ".*(A045)\n",
      "A045\n",
      "948\n",
      "A046\n",
      "D:\\Dataset\\Rose_lab\\processed_data\\required_dataset_skeleton_combined_with_classes\\A046\n",
      ".*(A046)\n",
      "A046\n",
      "948\n",
      "A047\n",
      "D:\\Dataset\\Rose_lab\\processed_data\\required_dataset_skeleton_combined_with_classes\\A047\n",
      ".*(A047)\n",
      "A047\n",
      "948\n",
      "A048\n",
      "D:\\Dataset\\Rose_lab\\processed_data\\required_dataset_skeleton_combined_with_classes\\A048\n",
      ".*(A048)\n",
      "A048\n",
      "948\n",
      "A049\n",
      "D:\\Dataset\\Rose_lab\\processed_data\\required_dataset_skeleton_combined_with_classes\\A049\n",
      ".*(A049)\n",
      "A049\n",
      "948\n",
      "A103\n",
      "D:\\Dataset\\Rose_lab\\processed_data\\required_dataset_skeleton_combined_with_classes\\A103\n",
      ".*(A103)\n",
      "A103\n",
      "960\n",
      "A104\n",
      "D:\\Dataset\\Rose_lab\\processed_data\\required_dataset_skeleton_combined_with_classes\\A104\n",
      ".*(A104)\n",
      "A104\n",
      "960\n",
      "A105\n",
      "D:\\Dataset\\Rose_lab\\processed_data\\required_dataset_skeleton_combined_with_classes\\A105\n",
      ".*(A105)\n",
      "A105\n",
      "960\n"
     ]
    }
   ],
   "source": [
    "helper3(source, destination)"
   ]
  },
  {
   "cell_type": "code",
   "execution_count": null,
   "id": "c2b6995f",
   "metadata": {},
   "outputs": [],
   "source": []
  }
 ],
 "metadata": {
  "kernelspec": {
   "display_name": "Python 3 (ipykernel)",
   "language": "python",
   "name": "python3"
  },
  "language_info": {
   "codemirror_mode": {
    "name": "ipython",
    "version": 3
   },
   "file_extension": ".py",
   "mimetype": "text/x-python",
   "name": "python",
   "nbconvert_exporter": "python",
   "pygments_lexer": "ipython3",
   "version": "3.9.12"
  }
 },
 "nbformat": 4,
 "nbformat_minor": 5
}
