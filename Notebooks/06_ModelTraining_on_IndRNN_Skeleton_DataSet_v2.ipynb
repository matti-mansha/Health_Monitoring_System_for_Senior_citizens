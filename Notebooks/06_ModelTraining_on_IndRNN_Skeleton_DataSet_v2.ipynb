{
  "cells": [
    {
      "attachments": {},
      "cell_type": "markdown",
      "metadata": {
        "id": "7wNkfSJncsIg"
      },
      "source": [
        "# 0. Getting Started"
      ]
    },
    {
      "cell_type": "code",
      "execution_count": 1,
      "metadata": {
        "id": "kqz_1YxbZd1j"
      },
      "outputs": [],
      "source": [
        "# Standard PyTorch imports\n",
        "import torch\n",
        "import torch.nn as nn\n",
        "import torch.optim as optim\n",
        "from torch.utils.data import DataLoader, Dataset\n",
        "from torch.autograd import Variable\n",
        "import torch.nn.functional as F\n",
        "\n",
        "import torchvision\n",
        "import torchvision.transforms as transforms\n",
        "import torchvision.datasets as datasets\n",
        "\n",
        "\n",
        "\n",
        "\n",
        "# Standard library for mathematical functions\n",
        "import numpy as np\n",
        "\n",
        "# OS module and Path libraries\n",
        "import os\n",
        "from pathlib import Path"
      ]
    },
    {
      "cell_type": "code",
      "execution_count": 2,
      "metadata": {
        "colab": {
          "base_uri": "https://localhost:8080/",
          "height": 35
        },
        "id": "uXLdo6ygZx-6",
        "outputId": "eec0a2bd-6633-45e7-a61c-17ff75a62bbf"
      },
      "outputs": [
        {
          "data": {
            "application/vnd.google.colaboratory.intrinsic+json": {
              "type": "string"
            },
            "text/plain": [
              "'2.0.0+cu118'"
            ]
          },
          "execution_count": 2,
          "metadata": {},
          "output_type": "execute_result"
        }
      ],
      "source": [
        "# Note: this notebook requires torch >= 1.10.0\n",
        "torch.__version__"
      ]
    },
    {
      "cell_type": "code",
      "execution_count": 3,
      "metadata": {
        "colab": {
          "base_uri": "https://localhost:8080/",
          "height": 35
        },
        "id": "bJWYukcBcSC_",
        "outputId": "2c78a200-a513-4b0b-e97f-fa053b375e4e"
      },
      "outputs": [
        {
          "data": {
            "application/vnd.google.colaboratory.intrinsic+json": {
              "type": "string"
            },
            "text/plain": [
              "'cuda'"
            ]
          },
          "execution_count": 3,
          "metadata": {},
          "output_type": "execute_result"
        }
      ],
      "source": [
        "# Setup device-agnostic code\n",
        "device = \"cuda\" if torch.cuda.is_available() else \"cpu\"\n",
        "device"
      ]
    },
    {
      "attachments": {},
      "cell_type": "markdown",
      "metadata": {
        "id": "mcOuB48dc2rk"
      },
      "source": [
        "# 1. Dataset Setup"
      ]
    },
    {
      "cell_type": "code",
      "execution_count": 4,
      "metadata": {
        "colab": {
          "base_uri": "https://localhost:8080/"
        },
        "id": "0zSZzfa6ccbx",
        "outputId": "16e768ad-9b1a-44dd-ab5b-96256a029bfe"
      },
      "outputs": [
        {
          "name": "stdout",
          "output_type": "stream",
          "text": [
            "Mounted at /content/gdrive/\n"
          ]
        }
      ],
      "source": [
        "# Connect Google Drive to a Google Colab Notebook for Dataset\n",
        "from google.colab import drive\n",
        "\n",
        "drive.mount('/content/gdrive/', force_remount=True)"
      ]
    },
    {
      "cell_type": "code",
      "execution_count": 5,
      "metadata": {
        "id": "7t127D2AdlE0"
      },
      "outputs": [],
      "source": [
        "required_classes_list = [\"A041\", \"A042\", \"A043\", \"A044\", \"A045\", \"A046\", \"A047\", \"A048\", \"A049\", \"A103\", \"A104\", \"A105\"]"
      ]
    },
    {
      "cell_type": "code",
      "execution_count": 6,
      "metadata": {
        "colab": {
          "base_uri": "https://localhost:8080/"
        },
        "id": "Ij2TGomwdtRo",
        "outputId": "fde5cb64-a00c-426f-cc32-df2c24dcc685"
      },
      "outputs": [
        {
          "name": "stdout",
          "output_type": "stream",
          "text": [
            "/content/gdrive/MyDrive/MyColabFiles/MyColabFiles/dataset\n"
          ]
        }
      ],
      "source": [
        "# creates a Path object called \"drive_path\" with the path \"/content/gdrive/\"\n",
        "drive_path = Path('/content/gdrive/')\n",
        "\n",
        "# creates a Path object called \"dataset_path_in_drive\"\n",
        "dataset_path_in_drive = Path('/content/gdrive/MyDrive/MyColabFiles/MyColabFiles') / 'dataset'\n",
        "\n",
        "print(dataset_path_in_drive)"
      ]
    },
    {
      "cell_type": "code",
      "execution_count": 7,
      "metadata": {
        "colab": {
          "base_uri": "https://localhost:8080/"
        },
        "id": "_5bWK9hzeD8r",
        "outputId": "68680431-c7cf-4949-9095-816b650ed0f1"
      },
      "outputs": [
        {
          "name": "stdout",
          "output_type": "stream",
          "text": [
            "Training Dataset Path: /content/gdrive/MyDrive/MyColabFiles/MyColabFiles/dataset/train\n",
            "Testing Dataset Path: /content/gdrive/MyDrive/MyColabFiles/MyColabFiles/dataset/test\n"
          ]
        }
      ],
      "source": [
        "# Setup train and testing paths\n",
        "train_dir = dataset_path_in_drive / \"train\"\n",
        "test_dir = dataset_path_in_drive / \"test\"\n",
        "\n",
        "print(\"Training Dataset Path: {}\\nTesting Dataset Path: {}\".format(train_dir, test_dir))"
      ]
    },
    {
      "cell_type": "code",
      "execution_count": 22,
      "metadata": {
        "id": "Nxxq8oT1gkx3"
      },
      "outputs": [],
      "source": [
        "# Takes in a file path and loads a NumPy array\n",
        "def npy_loader(path):\n",
        "    data = np.load(path ,allow_pickle=True).item()[\"skel_body0\"][:, :20]\n",
        "    if data.shape[0] >= 30:\n",
        "        return data[:30]\n",
        "    # else:\n",
        "    #     return None"
      ]
    },
    {
      "cell_type": "code",
      "execution_count": 23,
      "metadata": {
        "id": "oRh7S89Gir9o"
      },
      "outputs": [],
      "source": [
        "train_data = datasets.DatasetFolder(root=train_dir, # target folder of skeletons\n",
        "                                    loader=npy_loader,\n",
        "                                    extensions=['.npy'],\n",
        "                                    target_transform=None) # transforms to perform on labels (if necessary)"
      ]
    },
    {
      "cell_type": "code",
      "execution_count": 24,
      "metadata": {
        "colab": {
          "base_uri": "https://localhost:8080/"
        },
        "id": "1GzEr9U8Awoo",
        "outputId": "5b8074b2-88c1-480f-ab2a-60229ac9ee94"
      },
      "outputs": [
        {
          "data": {
            "text/plain": [
              "2248"
            ]
          },
          "execution_count": 24,
          "metadata": {},
          "output_type": "execute_result"
        }
      ],
      "source": [
        "len(train_data)"
      ]
    },
    {
      "cell_type": "code",
      "execution_count": 25,
      "metadata": {
        "colab": {
          "base_uri": "https://localhost:8080/"
        },
        "id": "IFDKKdh8XNaR",
        "outputId": "5d969fd5-2cea-4a37-9a6a-ae0ae7a85d46"
      },
      "outputs": [
        {
          "data": {
            "text/plain": [
              "(array([[[-1.632375e-01, -2.719418e-01,  3.793614e+00],\n",
              "         [-1.610523e-01,  4.210661e-02,  3.846833e+00],\n",
              "         [-1.581150e-01,  3.500930e-01,  3.886799e+00],\n",
              "         ...,\n",
              "         [-1.258912e-02, -6.452508e-01,  3.676026e+00],\n",
              "         [ 5.057659e-02, -9.741414e-01,  3.607743e+00],\n",
              "         [-5.858317e-04, -9.986490e-01,  3.480269e+00]],\n",
              " \n",
              "        [[-1.623635e-01, -2.719830e-01,  3.793427e+00],\n",
              "         [-1.605287e-01,  4.207006e-02,  3.846594e+00],\n",
              "         [-1.578705e-01,  3.500673e-01,  3.886553e+00],\n",
              "         ...,\n",
              "         [-1.237373e-02, -6.445345e-01,  3.676000e+00],\n",
              "         [ 5.025174e-02, -9.735253e-01,  3.607689e+00],\n",
              "         [-7.577874e-04, -9.980372e-01,  3.480130e+00]],\n",
              " \n",
              "        [[-1.615281e-01, -2.718283e-01,  3.795125e+00],\n",
              "         [-1.601908e-01,  4.162662e-02,  3.847232e+00],\n",
              "         [-1.577816e-01,  3.489477e-01,  3.886734e+00],\n",
              "         ...,\n",
              "         [-1.206885e-02, -6.445941e-01,  3.675985e+00],\n",
              "         [ 5.155781e-02, -9.734418e-01,  3.607960e+00],\n",
              "         [ 3.340404e-02, -1.042716e+00,  3.525048e+00]],\n",
              " \n",
              "        ...,\n",
              " \n",
              "        [[-9.279612e-02, -3.033532e-01,  3.830094e+00],\n",
              "         [-1.276668e-01,  1.705539e-03,  3.801368e+00],\n",
              "         [-1.570116e-01,  2.942547e-01,  3.759309e+00],\n",
              "         ...,\n",
              "         [ 1.010339e-02, -6.225367e-01,  3.674275e+00],\n",
              "         [ 5.420838e-02, -9.587759e-01,  3.610499e+00],\n",
              "         [ 8.045521e-03, -9.953316e-01,  3.485594e+00]],\n",
              " \n",
              "        [[-8.891980e-02, -3.078123e-01,  3.828385e+00],\n",
              "         [-1.265979e-01, -1.016067e-02,  3.791141e+00],\n",
              "         [-1.664119e-01,  2.761937e-01,  3.733824e+00],\n",
              "         ...,\n",
              "         [ 1.221227e-02, -6.251622e-01,  3.673134e+00],\n",
              "         [ 5.460973e-02, -9.585418e-01,  3.607567e+00],\n",
              "         [ 1.920752e-03, -9.985197e-01,  3.488267e+00]],\n",
              " \n",
              "        [[-8.099613e-02, -3.174488e-01,  3.823870e+00],\n",
              "         [-1.232232e-01, -2.445649e-02,  3.779042e+00],\n",
              "         [-1.671553e-01,  2.625338e-01,  3.718735e+00],\n",
              "         ...,\n",
              "         [ 1.458199e-02, -6.241220e-01,  3.673307e+00],\n",
              "         [ 5.467471e-02, -9.589056e-01,  3.607247e+00],\n",
              "         [ 3.663674e-03, -1.000108e+00,  3.487658e+00]]]),\n",
              " 1)"
            ]
          },
          "execution_count": 25,
          "metadata": {},
          "output_type": "execute_result"
        }
      ],
      "source": [
        "train_data[1000]"
      ]
    },
    {
      "cell_type": "code",
      "execution_count": 26,
      "metadata": {
        "id": "2KR_V5ENivJh"
      },
      "outputs": [],
      "source": [
        "video_no_1000_data, _label = train_data[1000]"
      ]
    },
    {
      "cell_type": "code",
      "execution_count": 27,
      "metadata": {
        "colab": {
          "base_uri": "https://localhost:8080/"
        },
        "id": "CQ6gm8bOrl7C",
        "outputId": "8fa6e5b2-7abe-49a1-a362-be208dd12a1d"
      },
      "outputs": [
        {
          "name": "stdout",
          "output_type": "stream",
          "text": [
            "(30, 20, 3) 1\n"
          ]
        }
      ],
      "source": [
        "print(video_no_1000_data.shape, _label)"
      ]
    },
    {
      "cell_type": "code",
      "execution_count": 28,
      "metadata": {
        "colab": {
          "base_uri": "https://localhost:8080/",
          "height": 776
        },
        "id": "j2M6TyVFj2UD",
        "outputId": "f21dd3f6-1a71-4fda-bbd8-555ef788c5f3"
      },
      "outputs": [
        {
          "data": {
            "image/png": "[encoded data removed]",
            "text/plain": [
              "<Figure size 600x900 with 1 Axes>"
            ]
          },
          "metadata": {},
          "output_type": "display_data"
        }
      ],
      "source": [
        "# Drawing frame no. 10 of 50th video from training dataset for sample \n",
        "import matplotlib.pyplot as plt\n",
        "import numpy as np\n",
        "\n",
        "\n",
        "movement = np.array(video_no_1000_data[10]*-1)\n",
        "\n",
        "bone_list = [[1, 2], [1, 17], [1, 13], [17, 18], [18, 19], [19, 20], [13, 14],\n",
        "            [14, 15], [15, 16], [2, 3], [3, 9], [3, 5], [3, 4],\n",
        "            [5, 6], [9, 10], [10, 11], [11, 12], [6, 7], [7, 8]]\n",
        "\n",
        "bone_list = np.array(bone_list) - 1\n",
        "number_of_postures = int(len(movement)/20)\n",
        "\n",
        "for i in range(number_of_postures):\n",
        "    fig, ax = plt.subplots(1, figsize=(6, 9))\n",
        "    plt.title('Skeleton')\n",
        "    skeleton = movement[i*20:(i+1)*20]\n",
        "\n",
        "    x = skeleton[:, 0]\n",
        "    y = -skeleton[:, 1]\n",
        "\n",
        "    sc = ax.scatter(x, y, s=40)\n",
        "    for bone in bone_list:\n",
        "        ax.plot([x[bone[0]], x[bone[1]]], [y[bone[0]], y[bone[1]]], 'r')\n",
        "  "
      ]
    },
    {
      "cell_type": "code",
      "execution_count": 31,
      "metadata": {
        "id": "xUsc0Il_-0K9"
      },
      "outputs": [],
      "source": [
        "def loadSequentialDATASET(batchSize=1):\n",
        "  \"\"\"\n",
        "  Loads and preprocesses sequential data from files in train_dir and test_dir using the \"npy_loader\" function.\n",
        "  Returns two PyTorch DataLoaders for the training and testing sets, respectively.\n",
        "\n",
        "  Parameters:\n",
        "    - batchSize (int): Number of samples per batch (default: 1).\n",
        "\n",
        "  Returns:\n",
        "    - train_dataloader (DataLoader): PyTorch DataLoader object for the training set.\n",
        "    - test_dataloader (DataLoader): PyTorch DataLoader object for the testing set.\n",
        "    \n",
        "    - remove_videos_with_less_than_30_frames (boolean): If True, videos that have less than 30 frames will be removed from the dataset.\n",
        "    \n",
        "    - num_videos (int): The number of videos in the dataset.\n",
        "  \"\"\"\n",
        "\n",
        "  # Creates PyTorch dataset from train_dir.\n",
        "  train_data = datasets.DatasetFolder(root=train_dir, # target folder of skeletons\n",
        "                                    loader=npy_loader,\n",
        "                                    extensions=['.npy'],\n",
        "                                    target_transform=None) # transforms to perform on labels (if necessary)\n",
        "\n",
        "  # Creates PyTorch dataset from test_dir.\n",
        "  test_data = datasets.DatasetFolder(root=test_dir,\n",
        "                                    loader=npy_loader,\n",
        "                                    extensions=['.npy'])\n",
        "    \n",
        "  print(f\"Train data:\\n{train_data}\\nTest data:\\n{test_data}\")\n",
        "\n",
        "  # Remove videos that have less than 30 frames\n",
        "  # if remove_videos_with_less_than_30_frames:\n",
        "  # train_data = [d for d in train_data if d is not None]\n",
        "  # test_data = [d for d in test_data if d is not None]\n",
        "\n",
        "  # Turn train and test Datasets into DataLoaders\n",
        "  train_dataloader = DataLoader(dataset=train_data, \n",
        "                                batch_size=batchSize, # how many samples per batch?\n",
        "                                num_workers=1, # how many subprocesses to use for data loading? (higher = more)\n",
        "                                shuffle=True) # shuffle the data?\n",
        "\n",
        "  test_dataloader = DataLoader(dataset=test_data, \n",
        "                                batch_size=batchSize, \n",
        "                                num_workers=1, \n",
        "                                shuffle=False) # don't usually need to shuffle testing data\n",
        "\n",
        "  # Count the number of videos in the dataset\n",
        "  num_videos = len(train_data) + len(test_data)\n",
        "  print(num_videos)\n",
        "\n",
        "\n",
        "  return train_dataloader, test_dataloader\n"
      ]
    },
    {
      "attachments": {},
      "cell_type": "markdown",
      "metadata": {
        "id": "e1-5OXzxlVKc"
      },
      "source": [
        "# 2. Building a model(IndRNN)"
      ]
    },
    {
      "cell_type": "code",
      "execution_count": 32,
      "metadata": {
        "id": "F6Yg586qpPkj"
      },
      "outputs": [],
      "source": [
        "import torch\n",
        "from torch.nn import Parameter\n",
        "import torch.nn as nn\n",
        "import torch.nn.functional as F\n",
        "from torch.autograd import Variable\n",
        "import math\n",
        "\n",
        "\n",
        "class IndRNNCell(nn.Module):\n",
        "    r\"\"\"An IndRNN cell with tanh or ReLU non-linearity.\n",
        "    .. math::\n",
        "        h' = \\tanh(w_{ih} * x + b_{ih}  +  w_{hh} (*) h)\n",
        "    With (*) being element-wise vector multiplication.\n",
        "    If nonlinearity='relu', then ReLU is used in place of tanh.\n",
        "    Args:\n",
        "        input_size: The number of expected features in the input x\n",
        "        hidden_size: The number of features in the hidden state h\n",
        "        bias: If ``False``, then the layer does not use bias weights b_ih and b_hh.\n",
        "            Default: ``True``\n",
        "        nonlinearity: The non-linearity to use ['tanh'|'relu']. Default: 'relu'\n",
        "        hidden_min_abs: Minimal absolute inital value for hidden weights. Default: 0\n",
        "        hidden_max_abs: Maximal absolute inital value for hidden weights. Default: None\n",
        "    Inputs: input, hidden\n",
        "        - **input** (batch, input_size): tensor containing input features\n",
        "        - **hidden** (batch, hidden_size): tensor containing the initial hidden\n",
        "          state for each element in the batch.\n",
        "    Outputs: h'\n",
        "        - **h'** (batch, hidden_size): tensor containing the next hidden state\n",
        "          for each element in the batch\n",
        "    Attributes:\n",
        "        weight_ih: the learnable input-hidden weights, of shape\n",
        "            `(input_size x hidden_size)`\n",
        "        weight_hh: the learnable hidden-hidden weights, of shape\n",
        "            `(hidden_size)`\n",
        "        bias_ih: the learnable input-hidden bias, of shape `(hidden_size)`\n",
        "    Examples::\n",
        "        >>> rnn = nn.IndRNNCell(10, 20)\n",
        "        >>> input = Variable(torch.randn(6, 3, 10))\n",
        "        >>> hx = Variable(torch.randn(3, 20))\n",
        "        >>> output = []\n",
        "        >>> for i in range(6):\n",
        "        ...     hx = rnn(input[i], hx)\n",
        "        ...     output.append(hx)\n",
        "    \"\"\"\n",
        "\n",
        "    def __init__(self, input_size, hidden_size, bias=True, nonlinearity=\"relu\",\n",
        "                 hidden_min_abs=0, hidden_max_abs=None):\n",
        "        super(IndRNNCell, self).__init__()\n",
        "        self.hidden_max_abs = hidden_max_abs\n",
        "        self.hidden_min_abs = hidden_min_abs\n",
        "        self.input_size = input_size\n",
        "        self.hidden_size = hidden_size\n",
        "        self.bias = bias\n",
        "        self.nonlinearity = nonlinearity\n",
        "        self.weight_ih = Parameter(torch.Tensor(hidden_size, input_size))\n",
        "        self.weight_hh = Parameter(torch.Tensor(hidden_size))\n",
        "        if bias:\n",
        "            self.bias_ih = Parameter(torch.Tensor(hidden_size))\n",
        "        else:\n",
        "            self.register_parameter('bias_ih', None)\n",
        "        self.reset_parameters()\n",
        "\n",
        "    def reset_parameters(self):\n",
        "        stdv = 1.0 / math.sqrt(self.hidden_size)\n",
        "        for name, weight in self.named_parameters():\n",
        "            if \"bias\" in name:\n",
        "                weight.data.zero_()\n",
        "            elif \"weight_hh\" in name:\n",
        "                if self.hidden_max_abs:\n",
        "                    stdv_ = self.hidden_max_abs\n",
        "                else:\n",
        "                    stdv_ = stdv\n",
        "                weight.data.uniform_(-stdv_, stdv_)\n",
        "            elif \"weight_ih\" in name:\n",
        "                weight.data.normal_(0, 0.01)\n",
        "            else:\n",
        "                weight.data.normal_(0, 0.01)\n",
        "                # weight.data.uniform_(-stdv, stdv)\n",
        "        self.check_bounds()\n",
        "\n",
        "    def check_bounds(self):\n",
        "        if self.hidden_min_abs:\n",
        "            abs_kernel = torch.abs(self.weight_hh.data)\n",
        "            min_abs_kernel = torch.clamp(abs_kernel, min=self.hidden_min_abs)\n",
        "            self.weight_hh.data.copy_(\n",
        "                torch.mul(torch.sign(self.weight_hh.data), min_abs_kernel))\n",
        "        if self.hidden_max_abs:\n",
        "            self.weight_hh.data.copy_(\n",
        "                torch.clamp(self.weight_hh.data, max=self.hidden_max_abs,\n",
        "                            min=-self.hidden_max_abs))\n",
        "\n",
        "    def forward(self, input, hx):\n",
        "        if self.nonlinearity == \"tanh\":\n",
        "            func = IndRNNTanhCell\n",
        "        elif self.nonlinearity == \"relu\":\n",
        "            func = IndRNNReLuCell\n",
        "        else:\n",
        "            raise RuntimeError(\n",
        "                \"Unknown nonlinearity: {}\".format(self.nonlinearity))\n",
        "\n",
        "        return func(input, hx, self.weight_ih, self.weight_hh, self.bias_ih)\n",
        "\n",
        "\n",
        "def IndRNNTanhCell(input, hidden, w_ih, w_hh, b_ih=None):\n",
        "    hy = F.tanh(F.linear(input, w_ih, b_ih) + F.mul(w_hh, hidden))\n",
        "    return hy\n",
        "\n",
        "\n",
        "def IndRNNReLuCell(input, hidden, w_ih, w_hh, b_ih=None):\n",
        "    # hy = F.relu(F.linear(input, w_ih, b_ih) + F.mul(w_hh, hidden))\n",
        "    # print(input.dtype)\n",
        "    # print(hidden.dtype)\n",
        "    # print(w_ih.dtype)\n",
        "    # print(w_hh.dtype)\n",
        "    # print(b_ih.dtype)\n",
        "\n",
        "\n",
        "    hy = F.relu(F.linear(input, w_ih, b_ih) + torch.mul(w_hh, hidden))\n",
        "    return hy\n",
        "\n",
        "\n",
        "class IndRNN(nn.Module):\n",
        "    r\"\"\"Applies a multi-layer IndRNN with `tanh` or `ReLU` non-linearity to an\n",
        "    input sequence.\n",
        "    For each element in the input sequence, each layer computes the following\n",
        "    function:\n",
        "    .. math::\n",
        "        h_t = \\tanh(w_{ih} x_t + b_{ih}  +  w_{hh} (*) h_{(t-1)})\n",
        "    where :math:`h_t` is the hidden state at time `t`, and :math:`x_t` is\n",
        "    the hidden state of the previous layer at time `t` or :math:`input_t`\n",
        "    for the first layer. (*) is element-wise multiplication.\n",
        "    If :attr:`nonlinearity`='relu', then `ReLU` is used instead of `tanh`.\n",
        "    Args:\n",
        "        input_size: The number of expected features in the input `x`\n",
        "        hidden_size: The number of features in the hidden state `h`\n",
        "        num_layers: Number of recurrent layers.\n",
        "        nonlinearity: The non-linearity to use. Can be either 'tanh' or 'relu'. Default: 'tanh'\n",
        "        bias: If ``False``, then the layer does not use bias weights `b_ih` and `b_hh`.\n",
        "            Default: ``True``\n",
        "        batch_first: If ``True``, then the input and output tensors are provided\n",
        "            as `(batch, seq, feature)`\n",
        "    Inputs: input, h_0\n",
        "        - **input** of shape `(seq_len, batch, input_size)`: tensor containing the features\n",
        "          of the input sequence. The input can also be a packed variable length\n",
        "          sequence. See :func:`torch.nn.utils.rnn.pack_padded_sequence`\n",
        "          or :func:`torch.nn.utils.rnn.pack_sequence`\n",
        "          for details.\n",
        "        - **h_0** of shape `(num_layers * num_directions, batch, hidden_size)`: tensor\n",
        "          containing the initial hidden state for each element in the batch.\n",
        "          Defaults to zero if not provided.\n",
        "    Outputs: output, h_n\n",
        "        - **output** of shape `(seq_len, batch, hidden_size * num_directions)`: tensor\n",
        "          containing the output features (`h_k`) from the last layer of the RNN,\n",
        "          for each `k`.  If a :class:`torch.nn.utils.rnn.PackedSequence` has\n",
        "          been given as the input, the output will also be a packed sequence.\n",
        "        - **h_n** (num_layers * num_directions, batch, hidden_size): tensor\n",
        "          containing the hidden state for `k = seq_len`.\n",
        "    Attributes:\n",
        "        cells[k]: individual IndRNNCells containing the weights\n",
        "    Examples::\n",
        "        >>> rnn = nn.IndRNN(10, 20, 2)\n",
        "        >>> input = torch.randn(5, 3, 10)\n",
        "        >>> h0 = torch.randn(2, 3, 20)\n",
        "        >>> output = rnn(input, h0)\n",
        "    \"\"\"\n",
        "\n",
        "    def __init__(self, input_size, hidden_size, n_layer=1, batch_norm=False,\n",
        "                 step_size=None, **kwargs):\n",
        "        super(IndRNN, self).__init__()\n",
        "        self.hidden_size = hidden_size\n",
        "        if batch_norm and step_size is None:\n",
        "            raise Exception(\"Frame wise batch size needs to know the step size\")\n",
        "        self.batch_norm = batch_norm\n",
        "        self.step_size = step_size\n",
        "        self.n_layer = n_layer\n",
        "\n",
        "        cells = []\n",
        "        for i in range(n_layer):\n",
        "            if i == 0:\n",
        "                cells += [IndRNNCell(input_size, hidden_size, **kwargs)]\n",
        "            else:\n",
        "                cells += [IndRNNCell(hidden_size, hidden_size, **kwargs)]\n",
        "        self.cells = nn.ModuleList(cells)\n",
        "\n",
        "        if batch_norm:\n",
        "            bns = []\n",
        "            for i in range(n_layer):\n",
        "                bns += [nn.BatchNorm2d(step_size)]\n",
        "            self.bns = nn.ModuleList(bns)\n",
        "\n",
        "        h0 = torch.zeros(hidden_size)\n",
        "        self.register_buffer('h0', torch.autograd.Variable(h0))\n",
        "\n",
        "    def forward(self, x, hidden=None):\n",
        "\n",
        "        for i, cell in enumerate(self.cells):\n",
        "            cell.check_bounds()\n",
        "            hx = self.h0.unsqueeze(0).expand(x.size(0), self.hidden_size).contiguous()\n",
        "            outputs = []\n",
        "            for t in range(x.size(1)):\n",
        "                x_t = x[:, t]\n",
        "                hx = cell(x_t, hx)\n",
        "                outputs += [hx]\n",
        "            x = torch.stack(outputs, 1)\n",
        "            if self.batch_norm:\n",
        "                x = self.bns[i](x)\n",
        "        return x.squeeze(2)"
      ]
    },
    {
      "cell_type": "code",
      "execution_count": 33,
      "metadata": {
        "id": "Bs-ZRJ8r2I7T"
      },
      "outputs": [],
      "source": [
        "import torch\n",
        "import torch.autograd as autograd\n",
        "import torch.nn as nn\n",
        "import torch.nn.functional as F\n",
        "import torch.optim as optim\n",
        "from torch.autograd import Variable\n",
        "\n",
        "torch.manual_seed(1)\n",
        "\n",
        "\n",
        "class BaseModel(nn.Module):\n",
        "\n",
        "    def __init__(self, inputDim, hiddenNum, outputDim, layerNum, cell):\n",
        "\n",
        "        super(BaseModel, self).__init__()\n",
        "        self.hiddenNum = hiddenNum\n",
        "        self.inputDim = inputDim\n",
        "        self.outputDim = outputDim\n",
        "        self.layerNum = layerNum\n",
        "\n",
        "        if cell == \"INDRNN\":\n",
        "            self.cell = IndRNN(input_size=self.inputDim, hidden_size=self.hiddenNum, n_layer= self.layerNum)\n",
        "        print(\"cell type:\", self.cell)\n",
        "        self.fc = nn.Linear(self.hiddenNum, self.outputDim)\n",
        "\n",
        "\n",
        "class IndRNNModel(BaseModel):\n",
        "\n",
        "    def __init__(self, inputDim, hiddenNum, outputDim, layerNum):\n",
        "        super(IndRNNModel, self).__init__(inputDim, hiddenNum, outputDim, layerNum, cell=\"INDRNN\")\n",
        "\n",
        "    def forward(self, x, batchSize):\n",
        "\n",
        "        #h0 = torch.zeros(self.layerNum*1, batchSize, 28)\n",
        "\n",
        "        rnnOutput = self.cell(x,)\n",
        "\n",
        "        rnnOutput = rnnOutput[:, -1, :].squeeze()\n",
        "\n",
        "        out = self.fc(rnnOutput)\n",
        "        # out = F.log_softmax(out)\n",
        "        out = F.log_softmax(out, dim=1)\n",
        "\n",
        "\n",
        "        return out"
      ]
    },
    {
      "cell_type": "code",
      "execution_count": 35,
      "metadata": {
        "colab": {
          "base_uri": "https://localhost:8080/"
        },
        "id": "-_c7tfb5TowL",
        "outputId": "99e57d61-d75a-490c-dd87-66016599ad95"
      },
      "outputs": [
        {
          "name": "stdout",
          "output_type": "stream",
          "text": [
            "cell type: IndRNN(\n",
            "  (cells): ModuleList(\n",
            "    (0-2): 3 x IndRNNCell()\n",
            "  )\n",
            ")\n",
            "Train data:\n",
            "Dataset DatasetFolder\n",
            "    Number of datapoints: 2248\n",
            "    Root location: /content/gdrive/MyDrive/MyColabFiles/MyColabFiles/dataset/train\n",
            "Test data:\n",
            "Dataset DatasetFolder\n",
            "    Number of datapoints: 569\n",
            "    Root location: /content/gdrive/MyDrive/MyColabFiles/MyColabFiles/dataset/test\n",
            "2817\n",
            "==>>> epoch: 0, batch index: 10, train loss: 1.108768\n",
            "==>>> epoch: 0, batch index: 18, train loss: 0.878514\n",
            "==>>> epoch: 0, batch index: 5, acc: 0.341\n",
            "==>>> epoch: 1, train loss: 0.878514, test loss: 1.146270, acc: 0.341\n",
            "==>>> epoch: 0, batch index: 10, train loss: 1.098960\n",
            "==>>> epoch: 0, batch index: 18, train loss: 0.877036\n",
            "==>>> epoch: 0, batch index: 5, acc: 0.387\n",
            "==>>> epoch: 2, train loss: 0.877036, test loss: 1.121722, acc: 0.387\n",
            "==>>> epoch: 0, batch index: 10, train loss: 1.094299\n",
            "==>>> epoch: 0, batch index: 18, train loss: 0.868351\n",
            "==>>> epoch: 0, batch index: 5, acc: 0.388\n",
            "==>>> epoch: 3, train loss: 0.868351, test loss: 0.858275, acc: 0.388\n",
            "==>>> epoch: 0, batch index: 10, train loss: 1.052994\n",
            "==>>> epoch: 0, batch index: 18, train loss: 0.831128\n",
            "==>>> epoch: 0, batch index: 5, acc: 0.485\n",
            "==>>> epoch: 4, train loss: 0.831128, test loss: 1.357487, acc: 0.485\n",
            "==>>> epoch: 0, batch index: 10, train loss: 0.990335\n",
            "==>>> epoch: 0, batch index: 18, train loss: 0.752067\n",
            "==>>> epoch: 0, batch index: 5, acc: 0.559\n",
            "==>>> epoch: 5, train loss: 0.752067, test loss: 1.133618, acc: 0.559\n",
            "==>>> epoch: 0, batch index: 10, train loss: 0.941715\n",
            "==>>> epoch: 0, batch index: 18, train loss: 0.736505\n",
            "==>>> epoch: 0, batch index: 5, acc: 0.561\n",
            "==>>> epoch: 6, train loss: 0.736505, test loss: 1.109840, acc: 0.561\n",
            "==>>> epoch: 0, batch index: 10, train loss: 0.909162\n",
            "==>>> epoch: 0, batch index: 18, train loss: 0.760211\n",
            "==>>> epoch: 0, batch index: 5, acc: 0.552\n",
            "==>>> epoch: 7, train loss: 0.760211, test loss: 1.355186, acc: 0.552\n",
            "==>>> epoch: 0, batch index: 10, train loss: 0.894608\n",
            "==>>> epoch: 0, batch index: 18, train loss: 0.711927\n",
            "==>>> epoch: 0, batch index: 5, acc: 0.580\n",
            "==>>> epoch: 8, train loss: 0.711927, test loss: 1.157920, acc: 0.580\n",
            "==>>> epoch: 0, batch index: 10, train loss: 0.869513\n",
            "==>>> epoch: 0, batch index: 18, train loss: 0.744754\n",
            "==>>> epoch: 0, batch index: 5, acc: 0.571\n",
            "==>>> epoch: 9, train loss: 0.744754, test loss: 1.241396, acc: 0.571\n",
            "==>>> epoch: 0, batch index: 10, train loss: 0.883898\n",
            "==>>> epoch: 0, batch index: 18, train loss: 0.706619\n",
            "==>>> epoch: 0, batch index: 5, acc: 0.580\n",
            "==>>> epoch: 10, train loss: 0.706619, test loss: 0.963959, acc: 0.580\n",
            "==>>> epoch: 0, batch index: 10, train loss: 0.879068\n",
            "==>>> epoch: 0, batch index: 18, train loss: 0.722400\n",
            "==>>> epoch: 0, batch index: 5, acc: 0.578\n",
            "==>>> epoch: 11, train loss: 0.722400, test loss: 1.041827, acc: 0.578\n",
            "==>>> epoch: 0, batch index: 10, train loss: 0.906772\n",
            "==>>> epoch: 0, batch index: 18, train loss: 0.706710\n",
            "==>>> epoch: 0, batch index: 5, acc: 0.557\n",
            "==>>> epoch: 12, train loss: 0.706710, test loss: 1.000507, acc: 0.557\n",
            "==>>> epoch: 0, batch index: 10, train loss: 0.906152\n",
            "==>>> epoch: 0, batch index: 18, train loss: 0.726246\n",
            "==>>> epoch: 0, batch index: 5, acc: 0.591\n",
            "==>>> epoch: 13, train loss: 0.726246, test loss: 1.096880, acc: 0.591\n",
            "==>>> epoch: 0, batch index: 10, train loss: 0.867424\n",
            "==>>> epoch: 0, batch index: 18, train loss: 0.706283\n",
            "==>>> epoch: 0, batch index: 5, acc: 0.538\n",
            "==>>> epoch: 14, train loss: 0.706283, test loss: 1.432620, acc: 0.538\n",
            "==>>> epoch: 0, batch index: 10, train loss: 0.876936\n",
            "==>>> epoch: 0, batch index: 18, train loss: 0.702884\n",
            "==>>> epoch: 0, batch index: 5, acc: 0.605\n",
            "==>>> epoch: 15, train loss: 0.702884, test loss: 1.174982, acc: 0.605\n",
            "==>>> epoch: 0, batch index: 10, train loss: 0.888005\n",
            "==>>> epoch: 0, batch index: 18, train loss: 0.664891\n",
            "==>>> epoch: 0, batch index: 5, acc: 0.589\n",
            "==>>> epoch: 16, train loss: 0.664891, test loss: 0.861307, acc: 0.589\n",
            "==>>> epoch: 0, batch index: 10, train loss: 0.848998\n",
            "==>>> epoch: 0, batch index: 18, train loss: 0.689050\n",
            "==>>> epoch: 0, batch index: 5, acc: 0.608\n",
            "==>>> epoch: 17, train loss: 0.689050, test loss: 1.021945, acc: 0.608\n",
            "==>>> epoch: 0, batch index: 10, train loss: 0.841931\n",
            "==>>> epoch: 0, batch index: 18, train loss: 0.701618\n",
            "==>>> epoch: 0, batch index: 5, acc: 0.613\n",
            "==>>> epoch: 18, train loss: 0.701618, test loss: 1.033239, acc: 0.613\n",
            "==>>> epoch: 0, batch index: 10, train loss: 0.853311\n",
            "==>>> epoch: 0, batch index: 18, train loss: 0.677259\n",
            "==>>> epoch: 0, batch index: 5, acc: 0.619\n",
            "==>>> epoch: 19, train loss: 0.677259, test loss: 1.132278, acc: 0.619\n",
            "==>>> epoch: 0, batch index: 10, train loss: 0.865145\n",
            "==>>> epoch: 0, batch index: 18, train loss: 0.680821\n",
            "==>>> epoch: 0, batch index: 5, acc: 0.619\n",
            "==>>> epoch: 20, train loss: 0.680821, test loss: 1.117064, acc: 0.619\n",
            "==>>> epoch: 0, batch index: 10, train loss: 0.830377\n",
            "==>>> epoch: 0, batch index: 18, train loss: 0.693337\n",
            "==>>> epoch: 0, batch index: 5, acc: 0.601\n",
            "==>>> epoch: 21, train loss: 0.693337, test loss: 1.110214, acc: 0.601\n",
            "==>>> epoch: 0, batch index: 10, train loss: 0.828426\n",
            "==>>> epoch: 0, batch index: 18, train loss: 0.690118\n",
            "==>>> epoch: 0, batch index: 5, acc: 0.606\n",
            "==>>> epoch: 22, train loss: 0.690118, test loss: 1.306843, acc: 0.606\n",
            "==>>> epoch: 0, batch index: 10, train loss: 0.860201\n",
            "==>>> epoch: 0, batch index: 18, train loss: 0.668616\n",
            "==>>> epoch: 0, batch index: 5, acc: 0.592\n",
            "==>>> epoch: 23, train loss: 0.668616, test loss: 0.866004, acc: 0.592\n",
            "==>>> epoch: 0, batch index: 10, train loss: 0.808849\n",
            "==>>> epoch: 0, batch index: 18, train loss: 0.646031\n",
            "==>>> epoch: 0, batch index: 5, acc: 0.601\n",
            "==>>> epoch: 24, train loss: 0.646031, test loss: 1.007856, acc: 0.601\n",
            "==>>> epoch: 0, batch index: 10, train loss: 0.819003\n",
            "==>>> epoch: 0, batch index: 18, train loss: 0.691692\n",
            "==>>> epoch: 0, batch index: 5, acc: 0.587\n",
            "==>>> epoch: 25, train loss: 0.691692, test loss: 1.135334, acc: 0.587\n",
            "==>>> epoch: 0, batch index: 10, train loss: 0.818789\n",
            "==>>> epoch: 0, batch index: 18, train loss: 0.672054\n",
            "==>>> epoch: 0, batch index: 5, acc: 0.608\n",
            "==>>> epoch: 26, train loss: 0.672054, test loss: 1.236974, acc: 0.608\n",
            "==>>> epoch: 0, batch index: 10, train loss: 0.848649\n",
            "==>>> epoch: 0, batch index: 18, train loss: 0.653534\n",
            "==>>> epoch: 0, batch index: 5, acc: 0.619\n",
            "==>>> epoch: 27, train loss: 0.653534, test loss: 1.125807, acc: 0.619\n",
            "==>>> epoch: 0, batch index: 10, train loss: 0.834827\n",
            "==>>> epoch: 0, batch index: 18, train loss: 0.630727\n",
            "==>>> epoch: 0, batch index: 5, acc: 0.620\n",
            "==>>> epoch: 28, train loss: 0.630727, test loss: 0.991886, acc: 0.620\n",
            "==>>> epoch: 0, batch index: 10, train loss: 0.786463\n",
            "==>>> epoch: 0, batch index: 18, train loss: 0.612539\n",
            "==>>> epoch: 0, batch index: 5, acc: 0.619\n",
            "==>>> epoch: 29, train loss: 0.612539, test loss: 0.853440, acc: 0.619\n",
            "==>>> epoch: 0, batch index: 10, train loss: 0.844474\n",
            "==>>> epoch: 0, batch index: 18, train loss: 0.630631\n",
            "==>>> epoch: 0, batch index: 5, acc: 0.613\n",
            "==>>> epoch: 30, train loss: 0.630631, test loss: 1.222187, acc: 0.613\n",
            "==>>> epoch: 0, batch index: 10, train loss: 0.829893\n",
            "==>>> epoch: 0, batch index: 18, train loss: 0.630610\n",
            "==>>> epoch: 0, batch index: 5, acc: 0.622\n",
            "==>>> epoch: 31, train loss: 0.630610, test loss: 1.238109, acc: 0.622\n",
            "==>>> epoch: 0, batch index: 10, train loss: 0.797148\n",
            "==>>> epoch: 0, batch index: 18, train loss: 0.629363\n",
            "==>>> epoch: 0, batch index: 5, acc: 0.610\n",
            "==>>> epoch: 32, train loss: 0.629363, test loss: 1.332045, acc: 0.610\n",
            "==>>> epoch: 0, batch index: 10, train loss: 0.789953\n",
            "==>>> epoch: 0, batch index: 18, train loss: 0.644400\n",
            "==>>> epoch: 0, batch index: 5, acc: 0.580\n",
            "==>>> epoch: 33, train loss: 0.644400, test loss: 1.338344, acc: 0.580\n",
            "==>>> epoch: 0, batch index: 10, train loss: 0.797596\n",
            "==>>> epoch: 0, batch index: 18, train loss: 0.617526\n",
            "==>>> epoch: 0, batch index: 5, acc: 0.645\n",
            "==>>> epoch: 34, train loss: 0.617526, test loss: 0.907813, acc: 0.645\n",
            "==>>> epoch: 0, batch index: 10, train loss: 0.776641\n",
            "==>>> epoch: 0, batch index: 18, train loss: 0.672864\n",
            "==>>> epoch: 0, batch index: 5, acc: 0.640\n",
            "==>>> epoch: 35, train loss: 0.672864, test loss: 0.799315, acc: 0.640\n",
            "==>>> epoch: 0, batch index: 10, train loss: 0.863767\n",
            "==>>> epoch: 0, batch index: 18, train loss: 0.647513\n",
            "==>>> epoch: 0, batch index: 5, acc: 0.578\n",
            "==>>> epoch: 36, train loss: 0.647513, test loss: 0.901799, acc: 0.578\n",
            "==>>> epoch: 0, batch index: 10, train loss: 0.811536\n",
            "==>>> epoch: 0, batch index: 18, train loss: 0.626718\n",
            "==>>> epoch: 0, batch index: 5, acc: 0.657\n",
            "==>>> epoch: 37, train loss: 0.626718, test loss: 1.111589, acc: 0.657\n",
            "==>>> epoch: 0, batch index: 10, train loss: 0.784090\n",
            "==>>> epoch: 0, batch index: 18, train loss: 0.631321\n",
            "==>>> epoch: 0, batch index: 5, acc: 0.659\n",
            "==>>> epoch: 38, train loss: 0.631321, test loss: 0.921086, acc: 0.659\n",
            "==>>> epoch: 0, batch index: 10, train loss: 0.739751\n",
            "==>>> epoch: 0, batch index: 18, train loss: 0.670212\n",
            "==>>> epoch: 0, batch index: 5, acc: 0.633\n",
            "==>>> epoch: 39, train loss: 0.670212, test loss: 0.948882, acc: 0.633\n",
            "==>>> epoch: 0, batch index: 10, train loss: 0.774941\n",
            "==>>> epoch: 0, batch index: 18, train loss: 0.634142\n",
            "==>>> epoch: 0, batch index: 5, acc: 0.591\n",
            "==>>> epoch: 40, train loss: 0.634142, test loss: 1.193153, acc: 0.591\n",
            "==>>> epoch: 0, batch index: 10, train loss: 0.825043\n",
            "==>>> epoch: 0, batch index: 18, train loss: 0.631240\n",
            "==>>> epoch: 0, batch index: 5, acc: 0.645\n",
            "==>>> epoch: 41, train loss: 0.631240, test loss: 0.892436, acc: 0.645\n",
            "==>>> epoch: 0, batch index: 10, train loss: 0.784440\n",
            "==>>> epoch: 0, batch index: 18, train loss: 0.607744\n",
            "==>>> epoch: 0, batch index: 5, acc: 0.564\n",
            "==>>> epoch: 42, train loss: 0.607744, test loss: 1.356549, acc: 0.564\n",
            "==>>> epoch: 0, batch index: 10, train loss: 0.804192\n",
            "==>>> epoch: 0, batch index: 18, train loss: 0.619581\n",
            "==>>> epoch: 0, batch index: 5, acc: 0.634\n",
            "==>>> epoch: 43, train loss: 0.619581, test loss: 0.966022, acc: 0.634\n",
            "==>>> epoch: 0, batch index: 10, train loss: 0.790746\n",
            "==>>> epoch: 0, batch index: 18, train loss: 0.605352\n",
            "==>>> epoch: 0, batch index: 5, acc: 0.638\n",
            "==>>> epoch: 44, train loss: 0.605352, test loss: 1.146497, acc: 0.638\n",
            "==>>> epoch: 0, batch index: 10, train loss: 0.739143\n",
            "==>>> epoch: 0, batch index: 18, train loss: 0.588380\n",
            "==>>> epoch: 0, batch index: 5, acc: 0.636\n",
            "==>>> epoch: 45, train loss: 0.588380, test loss: 0.850477, acc: 0.636\n",
            "==>>> epoch: 0, batch index: 10, train loss: 0.762589\n",
            "==>>> epoch: 0, batch index: 18, train loss: 0.636539\n",
            "==>>> epoch: 0, batch index: 5, acc: 0.641\n",
            "==>>> epoch: 46, train loss: 0.636539, test loss: 0.926757, acc: 0.641\n",
            "==>>> epoch: 0, batch index: 10, train loss: 0.761285\n",
            "==>>> epoch: 0, batch index: 18, train loss: 0.592738\n",
            "==>>> epoch: 0, batch index: 5, acc: 0.682\n",
            "==>>> epoch: 47, train loss: 0.592738, test loss: 0.996134, acc: 0.682\n",
            "==>>> epoch: 0, batch index: 10, train loss: 0.719073\n",
            "==>>> epoch: 0, batch index: 18, train loss: 0.589201\n",
            "==>>> epoch: 0, batch index: 5, acc: 0.631\n",
            "==>>> epoch: 48, train loss: 0.589201, test loss: 1.173026, acc: 0.631\n",
            "==>>> epoch: 0, batch index: 10, train loss: 0.741902\n",
            "==>>> epoch: 0, batch index: 18, train loss: 0.569302\n",
            "==>>> epoch: 0, batch index: 5, acc: 0.657\n",
            "==>>> epoch: 49, train loss: 0.569302, test loss: 0.870696, acc: 0.657\n",
            "==>>> epoch: 0, batch index: 10, train loss: 0.750141\n",
            "==>>> epoch: 0, batch index: 18, train loss: 0.682376\n",
            "==>>> epoch: 0, batch index: 5, acc: 0.594\n",
            "==>>> epoch: 50, train loss: 0.682376, test loss: 0.726466, acc: 0.594\n",
            "==>>> epoch: 0, batch index: 10, train loss: 0.768445\n",
            "==>>> epoch: 0, batch index: 18, train loss: 0.619573\n",
            "==>>> epoch: 0, batch index: 5, acc: 0.650\n",
            "==>>> epoch: 51, train loss: 0.619573, test loss: 0.773726, acc: 0.650\n",
            "==>>> epoch: 0, batch index: 10, train loss: 0.741905\n",
            "==>>> epoch: 0, batch index: 18, train loss: 0.562931\n",
            "==>>> epoch: 0, batch index: 5, acc: 0.666\n",
            "==>>> epoch: 52, train loss: 0.562931, test loss: 0.775029, acc: 0.666\n",
            "==>>> epoch: 0, batch index: 10, train loss: 0.703774\n",
            "==>>> epoch: 0, batch index: 18, train loss: 0.560134\n",
            "==>>> epoch: 0, batch index: 5, acc: 0.682\n",
            "==>>> epoch: 53, train loss: 0.560134, test loss: 0.867629, acc: 0.682\n",
            "==>>> epoch: 0, batch index: 10, train loss: 0.739303\n",
            "==>>> epoch: 0, batch index: 18, train loss: 0.557056\n",
            "==>>> epoch: 0, batch index: 5, acc: 0.675\n",
            "==>>> epoch: 54, train loss: 0.557056, test loss: 0.717408, acc: 0.675\n",
            "==>>> epoch: 0, batch index: 10, train loss: 0.701108\n",
            "==>>> epoch: 0, batch index: 18, train loss: 0.573918\n",
            "==>>> epoch: 0, batch index: 5, acc: 0.687\n",
            "==>>> epoch: 55, train loss: 0.573918, test loss: 0.841115, acc: 0.687\n",
            "==>>> epoch: 0, batch index: 10, train loss: 0.747118\n",
            "==>>> epoch: 0, batch index: 18, train loss: 0.588623\n",
            "==>>> epoch: 0, batch index: 5, acc: 0.652\n",
            "==>>> epoch: 56, train loss: 0.588623, test loss: 1.018144, acc: 0.652\n",
            "==>>> epoch: 0, batch index: 10, train loss: 0.766394\n",
            "==>>> epoch: 0, batch index: 18, train loss: 0.559163\n",
            "==>>> epoch: 0, batch index: 5, acc: 0.675\n",
            "==>>> epoch: 57, train loss: 0.559163, test loss: 0.851590, acc: 0.675\n",
            "==>>> epoch: 0, batch index: 10, train loss: 0.696504\n",
            "==>>> epoch: 0, batch index: 18, train loss: 0.557926\n",
            "==>>> epoch: 0, batch index: 5, acc: 0.675\n",
            "==>>> epoch: 58, train loss: 0.557926, test loss: 0.827465, acc: 0.675\n",
            "==>>> epoch: 0, batch index: 10, train loss: 0.682326\n",
            "==>>> epoch: 0, batch index: 18, train loss: 0.592891\n",
            "==>>> epoch: 0, batch index: 5, acc: 0.696\n",
            "==>>> epoch: 59, train loss: 0.592891, test loss: 0.985988, acc: 0.696\n",
            "==>>> epoch: 0, batch index: 10, train loss: 0.727541\n",
            "==>>> epoch: 0, batch index: 18, train loss: 0.557525\n",
            "==>>> epoch: 0, batch index: 5, acc: 0.608\n",
            "==>>> epoch: 60, train loss: 0.557525, test loss: 0.539591, acc: 0.608\n",
            "==>>> epoch: 0, batch index: 10, train loss: 0.760709\n",
            "==>>> epoch: 0, batch index: 18, train loss: 0.587099\n",
            "==>>> epoch: 0, batch index: 5, acc: 0.643\n",
            "==>>> epoch: 61, train loss: 0.587099, test loss: 1.208774, acc: 0.643\n",
            "==>>> epoch: 0, batch index: 10, train loss: 0.724453\n",
            "==>>> epoch: 0, batch index: 18, train loss: 0.561559\n",
            "==>>> epoch: 0, batch index: 5, acc: 0.682\n",
            "==>>> epoch: 62, train loss: 0.561559, test loss: 0.727070, acc: 0.682\n",
            "==>>> epoch: 0, batch index: 10, train loss: 0.715759\n",
            "==>>> epoch: 0, batch index: 18, train loss: 0.554429\n",
            "==>>> epoch: 0, batch index: 5, acc: 0.699\n",
            "==>>> epoch: 63, train loss: 0.554429, test loss: 0.747903, acc: 0.699\n",
            "==>>> epoch: 0, batch index: 10, train loss: 0.723317\n",
            "==>>> epoch: 0, batch index: 18, train loss: 0.580651\n",
            "==>>> epoch: 0, batch index: 5, acc: 0.707\n",
            "==>>> epoch: 64, train loss: 0.580651, test loss: 0.716823, acc: 0.707\n",
            "==>>> epoch: 0, batch index: 10, train loss: 0.691676\n",
            "==>>> epoch: 0, batch index: 18, train loss: 0.571780\n",
            "==>>> epoch: 0, batch index: 5, acc: 0.721\n",
            "==>>> epoch: 65, train loss: 0.571780, test loss: 0.730967, acc: 0.721\n",
            "==>>> epoch: 0, batch index: 10, train loss: 0.687097\n",
            "==>>> epoch: 0, batch index: 18, train loss: 0.571827\n",
            "==>>> epoch: 0, batch index: 5, acc: 0.682\n",
            "==>>> epoch: 66, train loss: 0.571827, test loss: 0.883637, acc: 0.682\n",
            "==>>> epoch: 0, batch index: 10, train loss: 0.698750\n",
            "==>>> epoch: 0, batch index: 18, train loss: 0.551819\n",
            "==>>> epoch: 0, batch index: 5, acc: 0.673\n",
            "==>>> epoch: 67, train loss: 0.551819, test loss: 0.986959, acc: 0.673\n",
            "==>>> epoch: 0, batch index: 10, train loss: 0.730654\n",
            "==>>> epoch: 0, batch index: 18, train loss: 0.636314\n",
            "==>>> epoch: 0, batch index: 5, acc: 0.666\n",
            "==>>> epoch: 68, train loss: 0.636314, test loss: 0.849502, acc: 0.666\n",
            "==>>> epoch: 0, batch index: 10, train loss: 0.746877\n",
            "==>>> epoch: 0, batch index: 18, train loss: 0.592037\n",
            "==>>> epoch: 0, batch index: 5, acc: 0.675\n",
            "==>>> epoch: 69, train loss: 0.592037, test loss: 0.896123, acc: 0.675\n",
            "==>>> epoch: 0, batch index: 10, train loss: 0.736177\n",
            "==>>> epoch: 0, batch index: 18, train loss: 0.580526\n",
            "==>>> epoch: 0, batch index: 5, acc: 0.692\n",
            "==>>> epoch: 70, train loss: 0.580526, test loss: 0.929179, acc: 0.692\n",
            "==>>> epoch: 0, batch index: 10, train loss: 0.706800\n",
            "==>>> epoch: 0, batch index: 18, train loss: 0.607799\n",
            "==>>> epoch: 0, batch index: 5, acc: 0.589\n",
            "==>>> epoch: 71, train loss: 0.607799, test loss: 0.676204, acc: 0.589\n",
            "==>>> epoch: 0, batch index: 10, train loss: 0.745573\n",
            "==>>> epoch: 0, batch index: 18, train loss: 0.593955\n",
            "==>>> epoch: 0, batch index: 5, acc: 0.707\n",
            "==>>> epoch: 72, train loss: 0.593955, test loss: 0.902370, acc: 0.707\n",
            "==>>> epoch: 0, batch index: 10, train loss: 0.685048\n",
            "==>>> epoch: 0, batch index: 18, train loss: 0.543815\n",
            "==>>> epoch: 0, batch index: 5, acc: 0.680\n",
            "==>>> epoch: 73, train loss: 0.543815, test loss: 0.714589, acc: 0.680\n",
            "==>>> epoch: 0, batch index: 10, train loss: 0.686947\n",
            "==>>> epoch: 0, batch index: 18, train loss: 0.575569\n",
            "==>>> epoch: 0, batch index: 5, acc: 0.692\n",
            "==>>> epoch: 74, train loss: 0.575569, test loss: 0.935867, acc: 0.692\n",
            "==>>> epoch: 0, batch index: 10, train loss: 0.685122\n",
            "==>>> epoch: 0, batch index: 18, train loss: 0.516610\n",
            "==>>> epoch: 0, batch index: 5, acc: 0.638\n",
            "==>>> epoch: 75, train loss: 0.516610, test loss: 0.655853, acc: 0.638\n",
            "==>>> epoch: 0, batch index: 10, train loss: 0.797164\n",
            "==>>> epoch: 0, batch index: 18, train loss: 0.606597\n",
            "==>>> epoch: 0, batch index: 5, acc: 0.684\n",
            "==>>> epoch: 76, train loss: 0.606597, test loss: 0.825481, acc: 0.684\n",
            "==>>> epoch: 0, batch index: 10, train loss: 0.685330\n",
            "==>>> epoch: 0, batch index: 18, train loss: 0.556798\n",
            "==>>> epoch: 0, batch index: 5, acc: 0.699\n",
            "==>>> epoch: 77, train loss: 0.556798, test loss: 0.699885, acc: 0.699\n",
            "==>>> epoch: 0, batch index: 10, train loss: 0.655421\n",
            "==>>> epoch: 0, batch index: 18, train loss: 0.524546\n",
            "==>>> epoch: 0, batch index: 5, acc: 0.696\n",
            "==>>> epoch: 78, train loss: 0.524546, test loss: 0.686494, acc: 0.696\n",
            "==>>> epoch: 0, batch index: 10, train loss: 0.643158\n",
            "==>>> epoch: 0, batch index: 18, train loss: 0.546443\n",
            "==>>> epoch: 0, batch index: 5, acc: 0.705\n",
            "==>>> epoch: 79, train loss: 0.546443, test loss: 0.904969, acc: 0.705\n",
            "==>>> epoch: 0, batch index: 10, train loss: 0.666438\n",
            "==>>> epoch: 0, batch index: 18, train loss: 0.553995\n",
            "==>>> epoch: 0, batch index: 5, acc: 0.703\n",
            "==>>> epoch: 80, train loss: 0.553995, test loss: 0.913095, acc: 0.703\n",
            "==>>> epoch: 0, batch index: 10, train loss: 0.646418\n",
            "==>>> epoch: 0, batch index: 18, train loss: 0.601824\n",
            "==>>> epoch: 0, batch index: 5, acc: 0.684\n",
            "==>>> epoch: 81, train loss: 0.601824, test loss: 0.927677, acc: 0.684\n",
            "==>>> epoch: 0, batch index: 10, train loss: 0.722494\n",
            "==>>> epoch: 0, batch index: 18, train loss: 0.532414\n",
            "==>>> epoch: 0, batch index: 5, acc: 0.663\n",
            "==>>> epoch: 82, train loss: 0.532414, test loss: 1.027884, acc: 0.663\n",
            "==>>> epoch: 0, batch index: 10, train loss: 0.698534\n",
            "==>>> epoch: 0, batch index: 18, train loss: 0.558154\n",
            "==>>> epoch: 0, batch index: 5, acc: 0.696\n",
            "==>>> epoch: 83, train loss: 0.558154, test loss: 0.918734, acc: 0.696\n",
            "==>>> epoch: 0, batch index: 10, train loss: 0.714561\n",
            "==>>> epoch: 0, batch index: 18, train loss: 0.579127\n",
            "==>>> epoch: 0, batch index: 5, acc: 0.717\n",
            "==>>> epoch: 84, train loss: 0.579127, test loss: 0.813406, acc: 0.717\n",
            "==>>> epoch: 0, batch index: 10, train loss: 0.694259\n",
            "==>>> epoch: 0, batch index: 18, train loss: 0.560541\n",
            "==>>> epoch: 0, batch index: 5, acc: 0.712\n",
            "==>>> epoch: 85, train loss: 0.560541, test loss: 0.861577, acc: 0.712\n",
            "==>>> epoch: 0, batch index: 10, train loss: 0.669113\n",
            "==>>> epoch: 0, batch index: 18, train loss: 0.551484\n",
            "==>>> epoch: 0, batch index: 5, acc: 0.694\n",
            "==>>> epoch: 86, train loss: 0.551484, test loss: 1.096747, acc: 0.694\n",
            "==>>> epoch: 0, batch index: 10, train loss: 0.680306\n",
            "==>>> epoch: 0, batch index: 18, train loss: 0.594511\n",
            "==>>> epoch: 0, batch index: 5, acc: 0.641\n",
            "==>>> epoch: 87, train loss: 0.594511, test loss: 0.784421, acc: 0.641\n",
            "==>>> epoch: 0, batch index: 10, train loss: 0.687736\n",
            "==>>> epoch: 0, batch index: 18, train loss: 0.534616\n",
            "==>>> epoch: 0, batch index: 5, acc: 0.710\n",
            "==>>> epoch: 88, train loss: 0.534616, test loss: 0.873058, acc: 0.710\n",
            "==>>> epoch: 0, batch index: 10, train loss: 0.657005\n",
            "==>>> epoch: 0, batch index: 18, train loss: 0.536241\n",
            "==>>> epoch: 0, batch index: 5, acc: 0.721\n",
            "==>>> epoch: 89, train loss: 0.536241, test loss: 0.681316, acc: 0.721\n",
            "==>>> epoch: 0, batch index: 10, train loss: 0.655063\n",
            "==>>> epoch: 0, batch index: 18, train loss: 0.542721\n",
            "==>>> epoch: 0, batch index: 5, acc: 0.682\n",
            "==>>> epoch: 90, train loss: 0.542721, test loss: 0.674522, acc: 0.682\n",
            "==>>> epoch: 0, batch index: 10, train loss: 0.635942\n",
            "==>>> epoch: 0, batch index: 18, train loss: 0.524884\n",
            "==>>> epoch: 0, batch index: 5, acc: 0.717\n",
            "==>>> epoch: 91, train loss: 0.524884, test loss: 0.661661, acc: 0.717\n",
            "==>>> epoch: 0, batch index: 10, train loss: 0.637176\n",
            "==>>> epoch: 0, batch index: 18, train loss: 0.573726\n",
            "==>>> epoch: 0, batch index: 5, acc: 0.680\n",
            "==>>> epoch: 92, train loss: 0.573726, test loss: 0.540944, acc: 0.680\n",
            "==>>> epoch: 0, batch index: 10, train loss: 0.676002\n",
            "==>>> epoch: 0, batch index: 18, train loss: 0.557987\n",
            "==>>> epoch: 0, batch index: 5, acc: 0.714\n",
            "==>>> epoch: 93, train loss: 0.557987, test loss: 0.859396, acc: 0.714\n",
            "==>>> epoch: 0, batch index: 10, train loss: 0.686748\n",
            "==>>> epoch: 0, batch index: 18, train loss: 0.513647\n",
            "==>>> epoch: 0, batch index: 5, acc: 0.721\n",
            "==>>> epoch: 94, train loss: 0.513647, test loss: 0.858141, acc: 0.721\n",
            "==>>> epoch: 0, batch index: 10, train loss: 0.668475\n",
            "==>>> epoch: 0, batch index: 18, train loss: 0.555158\n",
            "==>>> epoch: 0, batch index: 5, acc: 0.707\n",
            "==>>> epoch: 95, train loss: 0.555158, test loss: 0.842466, acc: 0.707\n",
            "==>>> epoch: 0, batch index: 10, train loss: 0.640929\n",
            "==>>> epoch: 0, batch index: 18, train loss: 0.543532\n",
            "==>>> epoch: 0, batch index: 5, acc: 0.708\n",
            "==>>> epoch: 96, train loss: 0.543532, test loss: 0.829481, acc: 0.708\n",
            "==>>> epoch: 0, batch index: 10, train loss: 0.636488\n",
            "==>>> epoch: 0, batch index: 18, train loss: 0.518111\n",
            "==>>> epoch: 0, batch index: 5, acc: 0.703\n",
            "==>>> epoch: 97, train loss: 0.518111, test loss: 0.803758, acc: 0.703\n",
            "==>>> epoch: 0, batch index: 10, train loss: 0.637517\n",
            "==>>> epoch: 0, batch index: 18, train loss: 0.545551\n",
            "==>>> epoch: 0, batch index: 5, acc: 0.703\n",
            "==>>> epoch: 98, train loss: 0.545551, test loss: 0.813326, acc: 0.703\n",
            "==>>> epoch: 0, batch index: 10, train loss: 0.697266\n",
            "==>>> epoch: 0, batch index: 18, train loss: 0.582461\n",
            "==>>> epoch: 0, batch index: 5, acc: 0.694\n",
            "==>>> epoch: 99, train loss: 0.582461, test loss: 0.853846, acc: 0.694\n",
            "==>>> epoch: 0, batch index: 10, train loss: 0.738117\n",
            "==>>> epoch: 0, batch index: 18, train loss: 0.649455\n",
            "==>>> epoch: 0, batch index: 5, acc: 0.684\n",
            "==>>> epoch: 100, train loss: 0.649455, test loss: 0.946616, acc: 0.684\n"
          ]
        }
      ],
      "source": [
        "import matplotlib.pyplot as plt\n",
        "\n",
        "epoch = 100\n",
        "batchSize = 128\n",
        "model = IndRNNModel(inputDim=60, hiddenNum=256, outputDim=3, layerNum=3)\n",
        "useCuda=True\n",
        "\n",
        "if useCuda:\n",
        "    model = model.cuda()\n",
        "\n",
        "checkPoint = 10\n",
        "\n",
        "optimizer = optim.Adam(model.parameters(), lr=0.01, )\n",
        "ceriation = nn.NLLLoss()\n",
        "trainLoader, testLoader = loadSequentialDATASET(batchSize=batchSize)\n",
        "\n",
        "train_losses, test_losses, accuracies = [], [], []\n",
        "\n",
        "for epoch in range(1, epoch + 1):\n",
        "\n",
        "    # trainning\n",
        "    sum_loss = 0\n",
        "    model.train()\n",
        "\n",
        "    for batch_idx, (x, target) in enumerate(trainLoader):\n",
        "\n",
        "        optimizer.zero_grad()\n",
        "        if useCuda:\n",
        "            x = x.view(-1, 30, 60)\n",
        "            x, target = x.cuda().float(), target.cuda()\n",
        "\n",
        "        out = model(x, batchSize)\n",
        "        loss = ceriation(out, target)\n",
        "        sum_loss += loss.item()\n",
        "        loss.backward()\n",
        "        optimizer.step()\n",
        "\n",
        "        if (batch_idx + 1) % checkPoint == 0 or (batch_idx + 1) == len(trainLoader):\n",
        "            print('==>>> epoch: {}, batch index: {}, train loss: {:.6f}'.format( i, batch_idx + 1, sum_loss/checkPoint))\n",
        "            train_losses.append(sum_loss / checkPoint)\n",
        "            sum_loss = 0.0\n",
        "\n",
        "    # testing\n",
        "    correct_cnt, sum_loss = 0, 0\n",
        "    total_cnt = 0\n",
        "    model.eval()\n",
        "\n",
        "    for batch_idx, (x, target) in enumerate(testLoader):\n",
        "\n",
        "        with torch.no_grad():\n",
        "            x, target = Variable(x), Variable(target)\n",
        "\n",
        "        if useCuda:\n",
        "            x = x.view(-1, 30, 60)\n",
        "            x, target = x.cuda().float(), target.cuda()\n",
        "\n",
        "        out = model(x, batchSize)\n",
        "        loss = ceriation(out, target)\n",
        "        _, pred_label = torch.max(out, dim=1)\n",
        "        total_cnt += x.data.size()[0]\n",
        "        correct_cnt += (pred_label == target.data).sum()\n",
        "\n",
        "        if (batch_idx + 1) % 100 == 0 or (batch_idx + 1) == len(testLoader):\n",
        "            print('==>>> epoch: {}, batch index: {}, acc: {:.3f}'.format(\n",
        "                i, batch_idx + 1,  correct_cnt * 1.0 / total_cnt))\n",
        "            test_losses.append(loss.item())\n",
        "            accuracies.append(correct_cnt * 1.0 / total_cnt)\n",
        "\n",
        "    print('==>>> epoch: {}, train loss: {:.6f}, test loss: {:.6f}, acc: {:.3f}'.format(\n",
        "        epoch, train_losses[-1], test_losses[-1], accuracies[-1]))"
      ]
    },
    {
      "cell_type": "code",
      "execution_count": 36,
      "metadata": {
        "id": "Xvt5HROLwEeZ"
      },
      "outputs": [],
      "source": [
        "torch.save(model.state_dict(), 'model_v2.pth')\n"
      ]
    },
    {
      "cell_type": "code",
      "execution_count": null,
      "metadata": {
        "colab": {
          "base_uri": "https://localhost:8080/"
        },
        "id": "9OEh69CrT_5h",
        "outputId": "54f076ff-3c52-4f2b-d570-4ebf16f5cd27"
      },
      "outputs": [
        {
          "data": {
            "text/plain": [
              "120"
            ]
          },
          "execution_count": 17,
          "metadata": {},
          "output_type": "execute_result"
        }
      ],
      "source": [
        "range(1, epoch + 1)\n",
        "len(train_losses)"
      ]
    },
    {
      "cell_type": "code",
      "execution_count": null,
      "metadata": {
        "colab": {
          "base_uri": "https://localhost:8080/",
          "height": 447
        },
        "id": "WX1jZiE61Lz0",
        "outputId": "454bfbf6-7bb7-40ab-d0e3-827eca3ea902"
      },
      "outputs": [
        {
          "data": {
            "text/plain": [
              "[<matplotlib.lines.Line2D at 0x7f7ebc8d6440>]"
            ]
          },
          "execution_count": 23,
          "metadata": {},
          "output_type": "execute_result"
        },
        {
          "data": {
            "image/png": "[encoded data removed]",
            "text/plain": [
              "<Figure size 640x480 with 1 Axes>"
            ]
          },
          "metadata": {},
          "output_type": "display_data"
        }
      ],
      "source": [
        "plt.plot(range(len(train_losses)), train_losses, label='train')\n",
        "range(len(train_losses))"
      ]
    },
    {
      "cell_type": "code",
      "execution_count": null,
      "metadata": {
        "id": "mEtlyebo3tOq"
      },
      "outputs": [],
      "source": [
        "accuracies = [acc.item() for acc in accuracies]"
      ]
    },
    {
      "cell_type": "code",
      "execution_count": null,
      "metadata": {
        "colab": {
          "base_uri": "https://localhost:8080/",
          "height": 881
        },
        "id": "CM_DEayRTPBj",
        "outputId": "2927a940-eaf1-412a-8aa1-5e0c45abc917"
      },
      "outputs": [
        {
          "data": {
            "image/png": "[encoded data removed]",
            "text/plain": [
              "<Figure size 640x480 with 1 Axes>"
            ]
          },
          "metadata": {},
          "output_type": "display_data"
        },
        {
          "data": {
            "image/png": "[encoded data removed]",
            "text/plain": [
              "<Figure size 640x480 with 1 Axes>"
            ]
          },
          "metadata": {},
          "output_type": "display_data"
        }
      ],
      "source": [
        "plt.plot(range(1, len(train_losses) + 1), train_losses, label='train')\n",
        "plt.plot(range(1, len(test_losses)  + 1), test_losses, label='test')\n",
        "plt.xlabel('Epochs')\n",
        "plt.ylabel('Loss')\n",
        "plt.legend()\n",
        "plt.show()\n",
        "\n",
        "plt.plot(range(1, len(accuracies) + 1), accuracies)\n",
        "plt.xlabel('Epochs')\n",
        "plt.ylabel('Accuracy')\n",
        "plt.show()\n"
      ]
    }
  ],
  "metadata": {
    "accelerator": "GPU",
    "colab": {
      "gpuType": "T4",
      "provenance": []
    },
    "gpuClass": "standard",
    "kernelspec": {
      "display_name": "Python 3",
      "name": "python3"
    },
    "language_info": {
      "name": "python"
    }
  },
  "nbformat": 4,
  "nbformat_minor": 0
}
