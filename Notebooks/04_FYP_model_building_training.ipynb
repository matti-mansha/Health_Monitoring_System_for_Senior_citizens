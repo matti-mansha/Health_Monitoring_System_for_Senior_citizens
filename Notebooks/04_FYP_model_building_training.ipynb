{
  "nbformat": 4,
  "nbformat_minor": 0,
  "metadata": {
    "colab": {
      "provenance": []
    },
    "kernelspec": {
      "name": "python3",
      "display_name": "Python 3"
    },
    "language_info": {
      "name": "python"
    },
    "gpuClass": "standard",
    "accelerator": "GPU",
    "widgets": {
      "application/vnd.jupyter.widget-state+json": {
        "0432483f21f44d64a675fc4cb2e10a52": {
          "model_module": "@jupyter-widgets/controls",
          "model_name": "HBoxModel",
          "model_module_version": "1.5.0",
          "state": {
            "_dom_classes": [],
            "_model_module": "@jupyter-widgets/controls",
            "_model_module_version": "1.5.0",
            "_model_name": "HBoxModel",
            "_view_count": null,
            "_view_module": "@jupyter-widgets/controls",
            "_view_module_version": "1.5.0",
            "_view_name": "HBoxView",
            "box_style": "",
            "children": [
              "IPY_MODEL_84166c98d47047b58fa22b1ce636bb56",
              "IPY_MODEL_0779ae2669d24463938e123a612a7a59",
              "IPY_MODEL_5a79c6d640e64c7f9939b4883445df6b"
            ],
            "layout": "IPY_MODEL_fa39657064284bc3a889a7c67e8fdce1"
          }
        },
        "84166c98d47047b58fa22b1ce636bb56": {
          "model_module": "@jupyter-widgets/controls",
          "model_name": "HTMLModel",
          "model_module_version": "1.5.0",
          "state": {
            "_dom_classes": [],
            "_model_module": "@jupyter-widgets/controls",
            "_model_module_version": "1.5.0",
            "_model_name": "HTMLModel",
            "_view_count": null,
            "_view_module": "@jupyter-widgets/controls",
            "_view_module_version": "1.5.0",
            "_view_name": "HTMLView",
            "description": "",
            "description_tooltip": null,
            "layout": "IPY_MODEL_0c6850c6a28c46e590f30baa8ffb0a5f",
            "placeholder": "​",
            "style": "IPY_MODEL_897b8c39fd664e62b25bdf3291e81f22",
            "value": "100%"
          }
        },
        "0779ae2669d24463938e123a612a7a59": {
          "model_module": "@jupyter-widgets/controls",
          "model_name": "FloatProgressModel",
          "model_module_version": "1.5.0",
          "state": {
            "_dom_classes": [],
            "_model_module": "@jupyter-widgets/controls",
            "_model_module_version": "1.5.0",
            "_model_name": "FloatProgressModel",
            "_view_count": null,
            "_view_module": "@jupyter-widgets/controls",
            "_view_module_version": "1.5.0",
            "_view_name": "ProgressView",
            "bar_style": "success",
            "description": "",
            "description_tooltip": null,
            "layout": "IPY_MODEL_a053868f4b7e45c99483dda4dd774158",
            "max": 20,
            "min": 0,
            "orientation": "horizontal",
            "style": "IPY_MODEL_455f214022474b21a9c725d56d1e2acf",
            "value": 20
          }
        },
        "5a79c6d640e64c7f9939b4883445df6b": {
          "model_module": "@jupyter-widgets/controls",
          "model_name": "HTMLModel",
          "model_module_version": "1.5.0",
          "state": {
            "_dom_classes": [],
            "_model_module": "@jupyter-widgets/controls",
            "_model_module_version": "1.5.0",
            "_model_name": "HTMLModel",
            "_view_count": null,
            "_view_module": "@jupyter-widgets/controls",
            "_view_module_version": "1.5.0",
            "_view_name": "HTMLView",
            "description": "",
            "description_tooltip": null,
            "layout": "IPY_MODEL_d2272ea7b6dd4b85906bf799d8aff883",
            "placeholder": "​",
            "style": "IPY_MODEL_49bfd9e69a3d41ff8fc25a72ea865245",
            "value": " 20/20 [08:07&lt;00:00, 24.36s/it]"
          }
        },
        "fa39657064284bc3a889a7c67e8fdce1": {
          "model_module": "@jupyter-widgets/base",
          "model_name": "LayoutModel",
          "model_module_version": "1.2.0",
          "state": {
            "_model_module": "@jupyter-widgets/base",
            "_model_module_version": "1.2.0",
            "_model_name": "LayoutModel",
            "_view_count": null,
            "_view_module": "@jupyter-widgets/base",
            "_view_module_version": "1.2.0",
            "_view_name": "LayoutView",
            "align_content": null,
            "align_items": null,
            "align_self": null,
            "border": null,
            "bottom": null,
            "display": null,
            "flex": null,
            "flex_flow": null,
            "grid_area": null,
            "grid_auto_columns": null,
            "grid_auto_flow": null,
            "grid_auto_rows": null,
            "grid_column": null,
            "grid_gap": null,
            "grid_row": null,
            "grid_template_areas": null,
            "grid_template_columns": null,
            "grid_template_rows": null,
            "height": null,
            "justify_content": null,
            "justify_items": null,
            "left": null,
            "margin": null,
            "max_height": null,
            "max_width": null,
            "min_height": null,
            "min_width": null,
            "object_fit": null,
            "object_position": null,
            "order": null,
            "overflow": null,
            "overflow_x": null,
            "overflow_y": null,
            "padding": null,
            "right": null,
            "top": null,
            "visibility": null,
            "width": null
          }
        },
        "0c6850c6a28c46e590f30baa8ffb0a5f": {
          "model_module": "@jupyter-widgets/base",
          "model_name": "LayoutModel",
          "model_module_version": "1.2.0",
          "state": {
            "_model_module": "@jupyter-widgets/base",
            "_model_module_version": "1.2.0",
            "_model_name": "LayoutModel",
            "_view_count": null,
            "_view_module": "@jupyter-widgets/base",
            "_view_module_version": "1.2.0",
            "_view_name": "LayoutView",
            "align_content": null,
            "align_items": null,
            "align_self": null,
            "border": null,
            "bottom": null,
            "display": null,
            "flex": null,
            "flex_flow": null,
            "grid_area": null,
            "grid_auto_columns": null,
            "grid_auto_flow": null,
            "grid_auto_rows": null,
            "grid_column": null,
            "grid_gap": null,
            "grid_row": null,
            "grid_template_areas": null,
            "grid_template_columns": null,
            "grid_template_rows": null,
            "height": null,
            "justify_content": null,
            "justify_items": null,
            "left": null,
            "margin": null,
            "max_height": null,
            "max_width": null,
            "min_height": null,
            "min_width": null,
            "object_fit": null,
            "object_position": null,
            "order": null,
            "overflow": null,
            "overflow_x": null,
            "overflow_y": null,
            "padding": null,
            "right": null,
            "top": null,
            "visibility": null,
            "width": null
          }
        },
        "897b8c39fd664e62b25bdf3291e81f22": {
          "model_module": "@jupyter-widgets/controls",
          "model_name": "DescriptionStyleModel",
          "model_module_version": "1.5.0",
          "state": {
            "_model_module": "@jupyter-widgets/controls",
            "_model_module_version": "1.5.0",
            "_model_name": "DescriptionStyleModel",
            "_view_count": null,
            "_view_module": "@jupyter-widgets/base",
            "_view_module_version": "1.2.0",
            "_view_name": "StyleView",
            "description_width": ""
          }
        },
        "a053868f4b7e45c99483dda4dd774158": {
          "model_module": "@jupyter-widgets/base",
          "model_name": "LayoutModel",
          "model_module_version": "1.2.0",
          "state": {
            "_model_module": "@jupyter-widgets/base",
            "_model_module_version": "1.2.0",
            "_model_name": "LayoutModel",
            "_view_count": null,
            "_view_module": "@jupyter-widgets/base",
            "_view_module_version": "1.2.0",
            "_view_name": "LayoutView",
            "align_content": null,
            "align_items": null,
            "align_self": null,
            "border": null,
            "bottom": null,
            "display": null,
            "flex": null,
            "flex_flow": null,
            "grid_area": null,
            "grid_auto_columns": null,
            "grid_auto_flow": null,
            "grid_auto_rows": null,
            "grid_column": null,
            "grid_gap": null,
            "grid_row": null,
            "grid_template_areas": null,
            "grid_template_columns": null,
            "grid_template_rows": null,
            "height": null,
            "justify_content": null,
            "justify_items": null,
            "left": null,
            "margin": null,
            "max_height": null,
            "max_width": null,
            "min_height": null,
            "min_width": null,
            "object_fit": null,
            "object_position": null,
            "order": null,
            "overflow": null,
            "overflow_x": null,
            "overflow_y": null,
            "padding": null,
            "right": null,
            "top": null,
            "visibility": null,
            "width": null
          }
        },
        "455f214022474b21a9c725d56d1e2acf": {
          "model_module": "@jupyter-widgets/controls",
          "model_name": "ProgressStyleModel",
          "model_module_version": "1.5.0",
          "state": {
            "_model_module": "@jupyter-widgets/controls",
            "_model_module_version": "1.5.0",
            "_model_name": "ProgressStyleModel",
            "_view_count": null,
            "_view_module": "@jupyter-widgets/base",
            "_view_module_version": "1.2.0",
            "_view_name": "StyleView",
            "bar_color": null,
            "description_width": ""
          }
        },
        "d2272ea7b6dd4b85906bf799d8aff883": {
          "model_module": "@jupyter-widgets/base",
          "model_name": "LayoutModel",
          "model_module_version": "1.2.0",
          "state": {
            "_model_module": "@jupyter-widgets/base",
            "_model_module_version": "1.2.0",
            "_model_name": "LayoutModel",
            "_view_count": null,
            "_view_module": "@jupyter-widgets/base",
            "_view_module_version": "1.2.0",
            "_view_name": "LayoutView",
            "align_content": null,
            "align_items": null,
            "align_self": null,
            "border": null,
            "bottom": null,
            "display": null,
            "flex": null,
            "flex_flow": null,
            "grid_area": null,
            "grid_auto_columns": null,
            "grid_auto_flow": null,
            "grid_auto_rows": null,
            "grid_column": null,
            "grid_gap": null,
            "grid_row": null,
            "grid_template_areas": null,
            "grid_template_columns": null,
            "grid_template_rows": null,
            "height": null,
            "justify_content": null,
            "justify_items": null,
            "left": null,
            "margin": null,
            "max_height": null,
            "max_width": null,
            "min_height": null,
            "min_width": null,
            "object_fit": null,
            "object_position": null,
            "order": null,
            "overflow": null,
            "overflow_x": null,
            "overflow_y": null,
            "padding": null,
            "right": null,
            "top": null,
            "visibility": null,
            "width": null
          }
        },
        "49bfd9e69a3d41ff8fc25a72ea865245": {
          "model_module": "@jupyter-widgets/controls",
          "model_name": "DescriptionStyleModel",
          "model_module_version": "1.5.0",
          "state": {
            "_model_module": "@jupyter-widgets/controls",
            "_model_module_version": "1.5.0",
            "_model_name": "DescriptionStyleModel",
            "_view_count": null,
            "_view_module": "@jupyter-widgets/base",
            "_view_module_version": "1.2.0",
            "_view_name": "StyleView",
            "description_width": ""
          }
        }
      }
    }
  },
  "cells": [
    {
      "cell_type": "code",
      "source": [
        "import torch\n",
        "import numpy as np\n",
        "from torch import nn\n",
        "\n",
        "# Note: this notebook requires torch >= 1.10.0\n",
        "torch.__version__"
      ],
      "metadata": {
        "colab": {
          "base_uri": "https://localhost:8080/",
          "height": 35
        },
        "id": "33Idzqj5q1oG",
        "outputId": "05767eba-c14b-4c76-b8a4-ef09785d4461"
      },
      "execution_count": 1,
      "outputs": [
        {
          "output_type": "execute_result",
          "data": {
            "text/plain": [
              "'1.13.0+cu116'"
            ],
            "application/vnd.google.colaboratory.intrinsic+json": {
              "type": "string"
            }
          },
          "metadata": {},
          "execution_count": 1
        }
      ]
    },
    {
      "cell_type": "code",
      "source": [
        "# Setup device-agnostic code\n",
        "device = \"cuda\" if torch.cuda.is_available() else \"cpu\"\n",
        "device"
      ],
      "metadata": {
        "colab": {
          "base_uri": "https://localhost:8080/",
          "height": 35
        },
        "id": "0DXTDffxq1le",
        "outputId": "b3dc401b-8a7f-4988-d45b-c298f8bd9667"
      },
      "execution_count": 2,
      "outputs": [
        {
          "output_type": "execute_result",
          "data": {
            "text/plain": [
              "'cpu'"
            ],
            "application/vnd.google.colaboratory.intrinsic+json": {
              "type": "string"
            }
          },
          "metadata": {},
          "execution_count": 2
        }
      ]
    },
    {
      "cell_type": "code",
      "execution_count": 3,
      "metadata": {
        "colab": {
          "base_uri": "https://localhost:8080/"
        },
        "id": "DSxJMs6ceXDa",
        "outputId": "f0a0d609-bb8a-4e66-f6d0-0499d125d868"
      },
      "outputs": [
        {
          "output_type": "stream",
          "name": "stdout",
          "text": [
            "Mounted at /content/gdrive/\n"
          ]
        }
      ],
      "source": [
        "# Connect Google Drive to a Google Colab Notebook for Dataset\n",
        "from google.colab import drive\n",
        "\n",
        "drive.mount('/content/gdrive/', force_remount=True)"
      ]
    },
    {
      "cell_type": "code",
      "source": [
        "import zipfile\n",
        "from pathlib import Path\n",
        "\n",
        "# Setup path to data folder\n",
        "data_path = Path(\"data/\")\n",
        "print(data_path)\n",
        "dataset_path = data_path / \"ntu\" / \"ntu\"\n",
        "print(dataset_path)\n",
        "\n",
        "# If the image folder doesn't exist, download it and prepare it... \n",
        "if dataset_path.is_dir():\n",
        "    print(f\"{dataset_path} directory exists.\")\n",
        "else:\n",
        "    print(f\"Did not find {data_path} directory, creating one...\")\n",
        "    dataset_path.mkdir(parents=True, exist_ok=True)\n",
        "\n",
        "    # Unzip pizza, steak, sushi data\n",
        "    with zipfile.ZipFile('/content/gdrive/MyDrive/ntu.zip', \"r\") as zip_ref:\n",
        "        print(\"Unzipping sample dataset\") \n",
        "        zip_ref.extractall(data_path)"
      ],
      "metadata": {
        "colab": {
          "base_uri": "https://localhost:8080/"
        },
        "id": "8CpnXnw9sHx9",
        "outputId": "562a6802-d7dd-4ad5-c3b7-5bf725f03c86"
      },
      "execution_count": 4,
      "outputs": [
        {
          "output_type": "stream",
          "name": "stdout",
          "text": [
            "data\n",
            "data/ntu/ntu\n",
            "Did not find data directory, creating one...\n",
            "Unzipping sample dataset\n"
          ]
        }
      ]
    },
    {
      "cell_type": "code",
      "source": [
        "required_classes_list = [\"A041\", \"A042\", \"A043\", \"A044\", \"A045\", \"A046\", \"A047\", \"A048\", \"A049\", \"A103\", \"A104\", \"A105\"]"
      ],
      "metadata": {
        "id": "h04u7wNXq0GH"
      },
      "execution_count": 5,
      "outputs": []
    },
    {
      "cell_type": "code",
      "source": [
        "import os\n",
        "def walk_through_dir(dir_path):\n",
        "  \"\"\"\n",
        "  Walks through dir_path returning its contents.\n",
        "  Args:\n",
        "    dir_path (str or pathlib.Path): target directory\n",
        "  \n",
        "  Returns:\n",
        "    A print out of:\n",
        "      number of subdiretories in dir_path\n",
        "      number of images (files) in each subdirectory\n",
        "      name of each subdirectory\n",
        "  \"\"\"\n",
        "  for dirpath, dirnames, filenames in os.walk(dir_path):\n",
        "    print(f\"There are {len(dirnames)} directories and {len(filenames)} images in '{dirpath}'.\")"
      ],
      "metadata": {
        "id": "WM2SmLtKrhjF"
      },
      "execution_count": 6,
      "outputs": []
    },
    {
      "cell_type": "code",
      "source": [
        "walk_through_dir(data_path)"
      ],
      "metadata": {
        "colab": {
          "base_uri": "https://localhost:8080/"
        },
        "id": "ZDO1sjOUxxiw",
        "outputId": "d69e7e4b-1934-4548-cdc1-f4aa6e8461be"
      },
      "execution_count": 7,
      "outputs": [
        {
          "output_type": "stream",
          "name": "stdout",
          "text": [
            "There are 1 directories and 0 images in 'data'.\n",
            "There are 1 directories and 0 images in 'data/ntu'.\n",
            "There are 2 directories and 0 images in 'data/ntu/ntu'.\n",
            "There are 3 directories and 0 images in 'data/ntu/ntu/train'.\n",
            "There are 0 directories and 350 images in 'data/ntu/ntu/train/A041'.\n",
            "There are 0 directories and 360 images in 'data/ntu/ntu/train/A043'.\n",
            "There are 0 directories and 415 images in 'data/ntu/ntu/train/A042'.\n",
            "There are 3 directories and 0 images in 'data/ntu/ntu/test'.\n",
            "There are 0 directories and 123 images in 'data/ntu/ntu/test/A041'.\n",
            "There are 0 directories and 119 images in 'data/ntu/ntu/test/A043'.\n",
            "There are 0 directories and 115 images in 'data/ntu/ntu/test/A042'.\n"
          ]
        }
      ]
    },
    {
      "cell_type": "code",
      "source": [
        "# Setup train and testing paths\n",
        "train_dir = dataset_path / \"train\"\n",
        "test_dir = dataset_path / \"test\"\n",
        "\n",
        "train_dir, test_dir"
      ],
      "metadata": {
        "colab": {
          "base_uri": "https://localhost:8080/"
        },
        "id": "dBHX8rQvx0IA",
        "outputId": "cc0019e0-55bb-4a91-d6a7-e0e93e9339b4"
      },
      "execution_count": 8,
      "outputs": [
        {
          "output_type": "execute_result",
          "data": {
            "text/plain": [
              "(PosixPath('data/ntu/ntu/train'), PosixPath('data/ntu/ntu/test'))"
            ]
          },
          "metadata": {},
          "execution_count": 8
        }
      ]
    },
    {
      "cell_type": "code",
      "source": [
        "import random\n",
        "\n",
        "# Set seed\n",
        "random.seed(42) \n",
        "\n",
        "# 1. Get all skeleton paths (* means \"any combination\")\n",
        "skeleton_path_list = list(dataset_path.glob(\"*/*/*.npy\"))\n",
        "\n",
        "# 2. Get random skeleton path\n",
        "random_skeleton_path = random.choice(skeleton_path_list)\n",
        "\n",
        "# 3. Get skeleton class from path name (the skeleton class is the name of the directory where the skeleton is stored)\n",
        "skeleton_class = random_skeleton_path.parent.stem\n",
        "\n",
        "# 5. Print metadata\n",
        "print(f\"Random image path: {random_skeleton_path}\")\n",
        "print(f\"Image class: {skeleton_class}\")"
      ],
      "metadata": {
        "colab": {
          "base_uri": "https://localhost:8080/"
        },
        "id": "ScICkqTyykkv",
        "outputId": "3c57974b-bba7-443c-d9a0-b0f4b80e81fe"
      },
      "execution_count": 9,
      "outputs": [
        {
          "output_type": "stream",
          "name": "stdout",
          "text": [
            "Random image path: data/ntu/ntu/test/A043/S007C003P027R001A043.skeleton.npy\n",
            "Image class: A043\n"
          ]
        }
      ]
    },
    {
      "cell_type": "code",
      "source": [
        "data = np.load(random_skeleton_path ,allow_pickle=True).item()\n",
        "data.keys()"
      ],
      "metadata": {
        "colab": {
          "base_uri": "https://localhost:8080/"
        },
        "id": "8mIITT2tzXZO",
        "outputId": "ecbdc399-a9fe-4b22-db3f-509c02778f52"
      },
      "execution_count": 10,
      "outputs": [
        {
          "output_type": "execute_result",
          "data": {
            "text/plain": [
              "dict_keys(['file_name', 'nbodys', 'njoints', 'skel_body0', 'rgb_body0', 'depth_body0'])"
            ]
          },
          "metadata": {},
          "execution_count": 10
        }
      ]
    },
    {
      "cell_type": "code",
      "source": [
        "data['skel_body0'].shape"
      ],
      "metadata": {
        "colab": {
          "base_uri": "https://localhost:8080/"
        },
        "id": "qRQm9eD61ZVs",
        "outputId": "71fc9676-78a0-4aec-ccbb-0578ea2a37c5"
      },
      "execution_count": 11,
      "outputs": [
        {
          "output_type": "execute_result",
          "data": {
            "text/plain": [
              "(74, 25, 3)"
            ]
          },
          "metadata": {},
          "execution_count": 11
        }
      ]
    },
    {
      "cell_type": "code",
      "source": [
        "data['skel_body0'][60]"
      ],
      "metadata": {
        "colab": {
          "base_uri": "https://localhost:8080/"
        },
        "id": "Qo0JJBdI1a08",
        "outputId": "acfbf80f-d10c-4211-9e24-ab3f58dd3969"
      },
      "execution_count": 12,
      "outputs": [
        {
          "output_type": "execute_result",
          "data": {
            "text/plain": [
              "array([[-2.086546e-02, -7.065356e-01,  3.568279e+00],\n",
              "       [ 1.244150e-01, -4.864027e-01,  3.428575e+00],\n",
              "       [ 2.753175e-01, -2.667619e-01,  3.289762e+00],\n",
              "       [ 2.567353e-01, -1.536084e-01,  3.241626e+00],\n",
              "       [ 1.205166e-01, -3.059779e-01,  3.335961e+00],\n",
              "       [ 1.601031e-02, -4.021871e-01,  3.183116e+00],\n",
              "       [-3.492816e-02, -3.852966e-01,  2.912973e+00],\n",
              "       [-9.482063e-02, -4.310053e-01,  2.769917e+00],\n",
              "       [ 4.120527e-01, -3.243021e-01,  3.240060e+00],\n",
              "       [ 4.358612e-01, -5.565153e-01,  3.250648e+00],\n",
              "       [ 3.663059e-01, -6.007693e-01,  2.996197e+00],\n",
              "       [ 3.539324e-01, -6.189399e-01,  2.937904e+00],\n",
              "       [-7.174402e-02, -6.675053e-01,  3.534452e+00],\n",
              "       [-8.821864e-02, -4.946834e-01,  3.250212e+00],\n",
              "       [-5.179534e-02, -8.309766e-01,  3.260287e+00],\n",
              "       [-1.496708e-01, -8.112829e-01,  3.151446e+00],\n",
              "       [ 2.908623e-02, -7.305440e-01,  3.521418e+00],\n",
              "       [ 3.047437e-01, -6.270344e-01,  3.009408e+00],\n",
              "       [ 1.147167e-01, -8.486766e-01,  3.107223e+00],\n",
              "       [ 1.889259e-03, -8.261641e-01,  3.116197e+00],\n",
              "       [ 2.377798e-01, -3.213729e-01,  3.325962e+00],\n",
              "       [-9.545396e-02, -4.364717e-01,  2.728371e+00],\n",
              "       [-8.053278e-02, -3.931165e-01,  2.765923e+00],\n",
              "       [ 3.289862e-01, -6.246839e-01,  2.904797e+00],\n",
              "       [ 3.242798e-01, -5.980250e-01,  2.927316e+00]])"
            ]
          },
          "metadata": {},
          "execution_count": 12
        }
      ]
    },
    {
      "cell_type": "code",
      "source": [],
      "metadata": {
        "id": "fVCvtrmn-fjt"
      },
      "execution_count": 30,
      "outputs": []
    },
    {
      "cell_type": "code",
      "source": [
        "import matplotlib.pyplot as plt\n",
        "import numpy as np\n",
        "\n",
        "\n",
        "movement = data['skel_body0'][60][:20]\n",
        "# print(movement)\n",
        "bone_list = [[1, 2], [1, 17], [1, 13], [17, 18], [18, 19], [19, 20], [13, 14],\n",
        "            [14, 15], [15, 16], [2, 3], [3, 9], [3, 5], [3, 4],\n",
        "            [5, 6], [9, 10], [10, 11], [11, 12], [6, 7], [7, 8]]\n",
        "\n",
        "bone_list = np.array(bone_list) - 1\n",
        "number_of_postures = int(len(movement)/20)\n",
        "\n",
        "for i in range(number_of_postures):\n",
        "    fig, ax = plt.subplots(1, figsize=(7, 10))\n",
        "    plt.title('Skeleton')\n",
        "    # plt.xlim(100, 180)\n",
        "    # plt.ylim(-250, 0)\n",
        "    skeleton = movement[i*20:(i+1)*20]\n",
        "\n",
        "    x = skeleton[:, 0]\n",
        "    y = -skeleton[:, 1]\n",
        "\n",
        "    sc = ax.scatter(x, y, s=40)\n",
        "    for bone in bone_list:\n",
        "        ax.plot([x[bone[0]], x[bone[1]]], [y[bone[0]], y[bone[1]]], 'r')"
      ],
      "metadata": {
        "colab": {
          "base_uri": "https://localhost:8080/",
          "height": 607
        },
        "id": "ilfDYqMSyEcv",
        "outputId": "65552e8b-0249-48c6-fc27-b85bd95ee83c"
      },
      "execution_count": 13,
      "outputs": [
        {
          "output_type": "display_data",
          "data": {
            "text/plain": [
              "<Figure size 504x720 with 1 Axes>"
            ],
            "image/png": "[encoded data removed]"
          },
          "metadata": {
            "needs_background": "light"
          }
        }
      ]
    },
    {
      "cell_type": "code",
      "source": [
        "data['skel_body0'].shape[0]"
      ],
      "metadata": {
        "colab": {
          "base_uri": "https://localhost:8080/"
        },
        "id": "ppoiKpfN7Fui",
        "outputId": "4f9aad54-a17d-45f5-8a73-0eeaf3f173a4"
      },
      "execution_count": 14,
      "outputs": [
        {
          "output_type": "execute_result",
          "data": {
            "text/plain": [
              "74"
            ]
          },
          "metadata": {},
          "execution_count": 14
        }
      ]
    },
    {
      "cell_type": "code",
      "source": [
        "def keyframing(input_skel, SEQ=30):\n",
        "  frame_count = input_skel.shape[0]\n",
        "  # print(frame_count)\n",
        "  skip_frames_window = max(int(frame_count/SEQ), 1)\n",
        "\n",
        "  new_mat = []\n",
        "  for frame_counter in range(SEQ):\n",
        "    frame_index = frame_counter * skip_frames_window\n",
        "    new_mat.append(input_skel[frame_index])\n",
        "  return np.array(new_mat)"
      ],
      "metadata": {
        "id": "2tDG7TyT7FUI"
      },
      "execution_count": 15,
      "outputs": []
    },
    {
      "cell_type": "code",
      "source": [
        "# # len(skeleton_path_list)\n",
        "\n",
        "# for path in skeleton_path_list:\n",
        "#   data = np.load(path ,allow_pickle=True).item()[\"skel_body0\"][:, :20]\n",
        "#   print(keyframing(data).shape)"
      ],
      "metadata": {
        "id": "fM20IqZyiMOh"
      },
      "execution_count": 34,
      "outputs": []
    },
    {
      "cell_type": "code",
      "source": [
        "import math\n",
        "def npy_loader(path, SEQ=30):\n",
        "    data = np.load(path ,allow_pickle=True).item()[\"skel_body0\"][:, :20]\n",
        "    sample = keyframing(data)\n",
        "    \n",
        "    mat = np.zeros([19,3])\n",
        "    # print(mat)\n",
        "    for i in range(sample.shape[0]):\n",
        "        new_mat = sample[i][1:] - sample[:, 0][i]\n",
        "        # print(new_mat)\n",
        "        ax, ay, az = new_mat[0]\n",
        "        bx, by, bz = new_mat[1]\n",
        "\n",
        "        dist = math.sqrt((ax-bx)**2 + (ay-by)**2 + (az-bz)**2)\n",
        "        scale = dist/23.5\n",
        "\n",
        "        new_mat = new_mat * scale\n",
        "        mat = np.dstack((mat, new_mat))\n",
        "        # print(mat)\n",
        "    \n",
        "    \n",
        "    sample = torch.from_numpy(mat)\n",
        "    sample = sample.permute(2, 0, 1)\n",
        "    return sample[1:]"
      ],
      "metadata": {
        "id": "CKdZ6HtgkT5Z"
      },
      "execution_count": 16,
      "outputs": []
    },
    {
      "cell_type": "code",
      "source": [
        "temp = npy_loader(random_skeleton_path)\n",
        "temp.shape"
      ],
      "metadata": {
        "colab": {
          "base_uri": "https://localhost:8080/"
        },
        "id": "t9MWW59hi_cK",
        "outputId": "cef2e699-751c-4b99-d84f-0c03be1810e9"
      },
      "execution_count": 17,
      "outputs": [
        {
          "output_type": "execute_result",
          "data": {
            "text/plain": [
              "torch.Size([30, 19, 3])"
            ]
          },
          "metadata": {},
          "execution_count": 17
        }
      ]
    },
    {
      "cell_type": "code",
      "source": [
        "# Use ImageFolder to create dataset(s)\n",
        "from torchvision import datasets\n",
        "train_data = datasets.DatasetFolder(root=train_dir, # target folder of images\n",
        "                                    loader=npy_loader,\n",
        "                                    extensions=['.npy'],\n",
        "                                  # transform=data_transform, # transforms to perform on data (images)\n",
        "                                  target_transform=None) # transforms to perform on labels (if necessary)\n",
        "\n",
        "test_data = datasets.DatasetFolder(root=test_dir,\n",
        "                                 loader=npy_loader,\n",
        "                                 extensions=['.npy']\n",
        "                                #  ,transform=data_transform\n",
        "                                 )\n",
        "\n",
        "print(f\"Train data:\\n{train_data}\\nTest data:\\n{test_data}\")"
      ],
      "metadata": {
        "colab": {
          "base_uri": "https://localhost:8080/"
        },
        "id": "7fnUAGj0iRcz",
        "outputId": "8d1784d4-6ffd-4547-c7be-e517b6f000c0"
      },
      "execution_count": 18,
      "outputs": [
        {
          "output_type": "stream",
          "name": "stdout",
          "text": [
            "Train data:\n",
            "Dataset DatasetFolder\n",
            "    Number of datapoints: 1125\n",
            "    Root location: data/ntu/ntu/train\n",
            "Test data:\n",
            "Dataset DatasetFolder\n",
            "    Number of datapoints: 357\n",
            "    Root location: data/ntu/ntu/test\n"
          ]
        }
      ]
    },
    {
      "cell_type": "code",
      "source": [
        "# Get class names as a list\n",
        "class_names = train_data.classes\n",
        "class_names"
      ],
      "metadata": {
        "colab": {
          "base_uri": "https://localhost:8080/"
        },
        "id": "Uj_WKr9SidGz",
        "outputId": "6d616309-22d6-4c5b-d78f-1ea9c2ef3137"
      },
      "execution_count": 19,
      "outputs": [
        {
          "output_type": "execute_result",
          "data": {
            "text/plain": [
              "['A041', 'A042', 'A043']"
            ]
          },
          "metadata": {},
          "execution_count": 19
        }
      ]
    },
    {
      "cell_type": "code",
      "source": [
        "# Can also get class names as a dict\n",
        "class_dict = train_data.class_to_idx\n",
        "class_dict"
      ],
      "metadata": {
        "colab": {
          "base_uri": "https://localhost:8080/"
        },
        "id": "QNGOmNN4idEL",
        "outputId": "b1cb5c10-5735-4c90-b58f-bf3fce357a3d"
      },
      "execution_count": 20,
      "outputs": [
        {
          "output_type": "execute_result",
          "data": {
            "text/plain": [
              "{'A041': 0, 'A042': 1, 'A043': 2}"
            ]
          },
          "metadata": {},
          "execution_count": 20
        }
      ]
    },
    {
      "cell_type": "code",
      "source": [
        "# Check the lengths\n",
        "len(train_data), len(test_data)"
      ],
      "metadata": {
        "colab": {
          "base_uri": "https://localhost:8080/"
        },
        "id": "avChCRBjlo-R",
        "outputId": "1997d220-58f0-4267-ce5e-956f49dd9d49"
      },
      "execution_count": 21,
      "outputs": [
        {
          "output_type": "execute_result",
          "data": {
            "text/plain": [
              "(1125, 357)"
            ]
          },
          "metadata": {},
          "execution_count": 21
        }
      ]
    },
    {
      "cell_type": "code",
      "source": [
        "data, label = train_data[500][0], train_data[500][1]\n",
        "print(f\"data tensor:\\n{data}\")\n",
        "print(f\"data shape: {data.shape}\")\n",
        "print(f\"data datatype: {data.dtype}\")\n",
        "print(f\"data label: {label}\")\n",
        "print(f\"Label datatype: {type(label)}\")"
      ],
      "metadata": {
        "colab": {
          "base_uri": "https://localhost:8080/"
        },
        "id": "w50djdfQlo7b",
        "outputId": "ce2fa1c8-9a85-40ae-86ef-bb06abaf95ce"
      },
      "execution_count": 22,
      "outputs": [
        {
          "output_type": "stream",
          "name": "stdout",
          "text": [
            "data tensor:\n",
            "tensor([[[ 9.4334e-05,  4.3296e-03,  5.4958e-04],\n",
            "         [ 2.0499e-04,  8.5594e-03,  9.3412e-04],\n",
            "         [ 3.3647e-04,  1.0692e-02,  1.3272e-03],\n",
            "         ...,\n",
            "         [ 1.4348e-03, -5.2382e-03, -4.9823e-04],\n",
            "         [ 1.2912e-03, -1.0315e-02,  1.5635e-03],\n",
            "         [ 1.1661e-03, -1.1164e-02,  9.4848e-05]],\n",
            "\n",
            "        [[ 8.0809e-05,  4.3346e-03,  5.5154e-04],\n",
            "         [ 1.7570e-04,  8.5667e-03,  9.3778e-04],\n",
            "         [ 3.4888e-04,  1.0696e-02,  1.3468e-03],\n",
            "         ...,\n",
            "         [ 1.4026e-03, -5.2449e-03, -4.2285e-04],\n",
            "         [ 1.1578e-03, -1.0283e-02,  1.4812e-03],\n",
            "         [ 1.1100e-03, -1.1144e-02,  2.1176e-04]],\n",
            "\n",
            "        [[ 9.9102e-05,  4.3380e-03,  5.4349e-04],\n",
            "         [ 2.1493e-04,  8.5736e-03,  9.2117e-04],\n",
            "         [ 3.8416e-04,  1.0701e-02,  1.3339e-03],\n",
            "         ...,\n",
            "         [ 1.4138e-03, -5.2419e-03, -4.6222e-04],\n",
            "         [ 1.0704e-03, -1.0232e-02,  2.1037e-04],\n",
            "         [ 1.2078e-03, -1.0616e-02, -1.6175e-03]],\n",
            "\n",
            "        ...,\n",
            "\n",
            "        [[ 1.1733e-03,  4.2012e-03,  8.3466e-04],\n",
            "         [ 2.3062e-03,  8.3276e-03,  1.4107e-03],\n",
            "         [ 3.5186e-03,  9.7777e-03,  1.7706e-03],\n",
            "         ...,\n",
            "         [ 1.2279e-03, -4.2365e-03, -1.0129e-03],\n",
            "         [ 1.2311e-03, -8.1755e-03,  1.1135e-03],\n",
            "         [ 1.1212e-03, -8.5300e-03, -9.7017e-04]],\n",
            "\n",
            "        [[ 9.6908e-04,  3.9456e-03,  1.8549e-04],\n",
            "         [ 1.9032e-03,  7.8067e-03,  7.5918e-05],\n",
            "         [ 3.2872e-03,  9.2616e-03, -1.9450e-04],\n",
            "         ...,\n",
            "         [ 1.8479e-03, -3.7799e-03, -1.6348e-03],\n",
            "         [ 1.5912e-03, -7.4325e-03,  5.9357e-04],\n",
            "         [ 1.4259e-03, -7.9554e-03, -1.3366e-03]],\n",
            "\n",
            "        [[ 7.2335e-04,  3.8003e-03, -1.6955e-04],\n",
            "         [ 1.3796e-03,  7.5116e-03, -6.4332e-04],\n",
            "         [ 2.4449e-03,  8.6781e-03, -1.5637e-03],\n",
            "         ...,\n",
            "         [ 1.9317e-03, -3.5167e-03, -1.8595e-03],\n",
            "         [ 1.4277e-03, -7.2796e-03, -4.3468e-05],\n",
            "         [ 1.3171e-03, -7.8805e-03, -1.8922e-03]]], dtype=torch.float64)\n",
            "data shape: torch.Size([30, 19, 3])\n",
            "data datatype: torch.float64\n",
            "data label: 1\n",
            "Label datatype: <class 'int'>\n"
          ]
        }
      ]
    },
    {
      "cell_type": "code",
      "source": [
        "train_data[0][0].shape"
      ],
      "metadata": {
        "colab": {
          "base_uri": "https://localhost:8080/"
        },
        "id": "aQm49jL5XbNX",
        "outputId": "4a968dab-ac7c-4871-d8fa-3e68b0cc8744"
      },
      "execution_count": 23,
      "outputs": [
        {
          "output_type": "execute_result",
          "data": {
            "text/plain": [
              "torch.Size([30, 19, 3])"
            ]
          },
          "metadata": {},
          "execution_count": 23
        }
      ]
    },
    {
      "cell_type": "code",
      "source": [
        "# for i in range(len(train_data)):\n",
        "#   print(train_data[i][0].shape)"
      ],
      "metadata": {
        "id": "fFW8IxBDW6PF"
      },
      "execution_count": 43,
      "outputs": []
    },
    {
      "cell_type": "code",
      "source": [
        "# Turn train and test Datasets into DataLoaders\n",
        "from torch.utils.data import DataLoader\n",
        "train_dataloader = DataLoader(dataset=train_data, \n",
        "                              batch_size=1, # how many samples per batch?\n",
        "                              num_workers=1, # how many subprocesses to use for data loading? (higher = more)\n",
        "                              shuffle=True) # shuffle the data?\n",
        "\n",
        "test_dataloader = DataLoader(dataset=test_data, \n",
        "                             batch_size=1, \n",
        "                             num_workers=1, \n",
        "                             shuffle=False) # don't usually need to shuffle testing data\n",
        "\n",
        "train_dataloader, test_dataloader"
      ],
      "metadata": {
        "colab": {
          "base_uri": "https://localhost:8080/"
        },
        "id": "MQmd3RgOlo4p",
        "outputId": "c6c273c4-35d9-4dd9-ae1c-5f5211259f22"
      },
      "execution_count": 24,
      "outputs": [
        {
          "output_type": "execute_result",
          "data": {
            "text/plain": [
              "(<torch.utils.data.dataloader.DataLoader at 0x7feaf7d36970>,\n",
              " <torch.utils.data.dataloader.DataLoader at 0x7feaf7d36a00>)"
            ]
          },
          "metadata": {},
          "execution_count": 24
        }
      ]
    },
    {
      "cell_type": "code",
      "source": [],
      "metadata": {
        "id": "E3q4qSWpiRaD"
      },
      "execution_count": 44,
      "outputs": []
    },
    {
      "cell_type": "code",
      "source": [],
      "metadata": {
        "id": "1_k5qFxN1xDD"
      },
      "execution_count": 44,
      "outputs": []
    },
    {
      "cell_type": "code",
      "source": [
        "import torchvision\n",
        "import torchvision.transforms as transforms\n",
        "import torch.nn.functional as F\n",
        "\n",
        "\n",
        "# Hyper-parameters \n",
        "# input_size = 784 # 28x28\n",
        "num_classes = 3\n",
        "# num_epochs = 10\n",
        "batch_size = 1\n",
        "learning_rate = 0.01\n",
        "\n",
        "input_size = 57\n",
        "sequence_length = 30\n",
        "hidden_size = 128\n",
        "num_layers = 2"
      ],
      "metadata": {
        "id": "bQmQOVLt94Gi"
      },
      "execution_count": 25,
      "outputs": []
    },
    {
      "cell_type": "code",
      "source": [
        "class RNN(nn.Module):\n",
        "    def __init__(self, input_size, hidden_size, num_layers, num_classes):\n",
        "        super(RNN, self).__init__()\n",
        "        self.num_layers = num_layers\n",
        "        self.hidden_size = hidden_size\n",
        "        self.rnn = nn.RNN(input_size, hidden_size, num_layers, batch_first=True)\n",
        "        # -> x needs to be: (batch_size, seq, input_size)\n",
        "        \n",
        "        # or:\n",
        "        #self.gru = nn.GRU(input_size, hidden_size, num_layers, batch_first=True)\n",
        "        # self.lstm = nn.LSTM(input_size, hidden_size, num_layers, batch_first=True)\n",
        "        self.nonlinear = nn.ReLU()\n",
        "        self.fc = nn.Linear(hidden_size, num_classes)\n",
        "        \n",
        "    def forward(self, x):\n",
        "        # Set initial hidden states (and cell states for LSTM)\n",
        "        h0 = torch.zeros(self.num_layers, x.size(0), self.hidden_size).to(device) \n",
        "        # c0 = torch.zeros(self.num_layers, x.size(0), self.hidden_size).to(device) \n",
        "        \n",
        "        # x: (n, 28, 28), h0: (2, n, 128)\n",
        "        \n",
        "        # Forward propagate RNN\n",
        "        out, _ = self.rnn(x, h0)  \n",
        "        # or:\n",
        "        # out, _ = self.lstm(x, (h0,c0))  \n",
        "        \n",
        "        # out: tensor of shape (batch_size, seq_length, hidden_size)\n",
        "        # out: (n, 28, 128)\n",
        "        \n",
        "        # Decode the hidden state of the last time step\n",
        "        out = out[:, -1, :]\n",
        "        # out: (n, 128)\n",
        "        out = self.nonlinear(out)\n",
        "        out = self.fc(out)\n",
        "        # out: (n, 10)\n",
        "        return out"
      ],
      "metadata": {
        "id": "Bhb4nHlr94CK"
      },
      "execution_count": 33,
      "outputs": []
    },
    {
      "cell_type": "code",
      "source": [
        "class RNN1(nn.Module):\n",
        "    def __init__(self, input_size, hidden_size, num_layers, num_classes):\n",
        "        super(RNN1, self).__init__()\n",
        "        self.num_layers = num_layers\n",
        "        self.hidden_size = hidden_size\n",
        "        self.gru = nn.GRU(input_size, hidden_size, num_layers, batch_first=True)\n",
        "        # -> x needs to be: (batch_size, seq, input_size)\n",
        "        \n",
        "        # or:\n",
        "        #self.gru = nn.GRU(input_size, hidden_size, num_layers, batch_first=True)\n",
        "        # self.lstm = nn.LSTM(input_size, hidden_size, num_layers, batch_first=True)\n",
        "        self.nonlinear = nn.ReLU()\n",
        "        self.fc = nn.Linear(hidden_size*sequence_length, num_classes)\n",
        "        \n",
        "    def forward(self, x):\n",
        "        # Set initial hidden states (and cell states for LSTM)\n",
        "        h0 = torch.zeros(self.num_layers, x.size(0), self.hidden_size).to(device) \n",
        "        # c0 = torch.zeros(self.num_layers, x.size(0), self.hidden_size).to(device) \n",
        "        \n",
        "        # x: (n, 28, 28), h0: (2, n, 128)\n",
        "        \n",
        "        # Forward propagate RNN\n",
        "        out, _ = self.gru(x, h0)  \n",
        "        # or:\n",
        "        # out, _ = self.lstm(x, (h0,c0))  \n",
        "        \n",
        "        # out: tensor of shape (batch_size, seq_length, hidden_size)\n",
        "        # out: (n, 28, 128)\n",
        "        \n",
        "        # Decode the hidden state of the last time step\n",
        "        out = out.reshape(out.shape[0], -1)\n",
        "        # out: (n, 128)\n",
        "        out = self.nonlinear(out)\n",
        "        out = self.fc(out)\n",
        "        # out: (n, 10)\n",
        "        return out"
      ],
      "metadata": {
        "id": "eCwYc-fgk-XM"
      },
      "execution_count": 52,
      "outputs": []
    },
    {
      "cell_type": "code",
      "source": [
        "torch.manual_seed(42)\n",
        "model = RNN1(input_size, hidden_size, num_layers, num_classes).to(device)\n",
        "model"
      ],
      "metadata": {
        "colab": {
          "base_uri": "https://localhost:8080/"
        },
        "id": "0nuzfzr8HkOR",
        "outputId": "d73c0efa-a52d-40ac-ddeb-0c89c099833c"
      },
      "execution_count": 53,
      "outputs": [
        {
          "output_type": "execute_result",
          "data": {
            "text/plain": [
              "RNN1(\n",
              "  (gru): GRU(57, 128, num_layers=2, batch_first=True)\n",
              "  (nonlinear): ReLU()\n",
              "  (fc): Linear(in_features=3840, out_features=3, bias=True)\n",
              ")"
            ]
          },
          "metadata": {},
          "execution_count": 53
        }
      ]
    },
    {
      "cell_type": "code",
      "source": [
        "# Loss and optimizer\n",
        "criterion = nn.CrossEntropyLoss()\n",
        "optimizer = torch.optim.Adam(model.parameters(), lr=learning_rate)  "
      ],
      "metadata": {
        "id": "WNpFltCkHpgh"
      },
      "execution_count": 86,
      "outputs": []
    },
    {
      "cell_type": "code",
      "source": [
        "train_data[0][0].shape"
      ],
      "metadata": {
        "colab": {
          "base_uri": "https://localhost:8080/"
        },
        "id": "nBlFlJ38HpbR",
        "outputId": "b69a746b-5505-4ddc-9c33-640b92235687"
      },
      "execution_count": 28,
      "outputs": [
        {
          "output_type": "execute_result",
          "data": {
            "text/plain": [
              "torch.Size([30, 19, 3])"
            ]
          },
          "metadata": {},
          "execution_count": 28
        }
      ]
    },
    {
      "cell_type": "code",
      "source": [
        "# Install torchinfo if it's not available, import it if it is\n",
        "try: \n",
        "    import torchinfo\n",
        "except:\n",
        "    !pip install torchinfo\n",
        "    import torchinfo\n",
        "    \n",
        "from torchinfo import summary\n",
        "summary(model, input_size=[1, 30, 57]) # do a test pass through of an example input size "
      ],
      "metadata": {
        "colab": {
          "base_uri": "https://localhost:8080/"
        },
        "id": "sKlKrWqUv_J4",
        "outputId": "154bc67b-4b32-4b2e-a074-42fbf9701df0"
      },
      "execution_count": 54,
      "outputs": [
        {
          "output_type": "execute_result",
          "data": {
            "text/plain": [
              "==========================================================================================\n",
              "Layer (type:depth-idx)                   Output Shape              Param #\n",
              "==========================================================================================\n",
              "RNN1                                     [1, 3]                    --\n",
              "├─GRU: 1-1                               [1, 30, 128]              170,880\n",
              "├─ReLU: 1-2                              [1, 3840]                 --\n",
              "├─Linear: 1-3                            [1, 3]                    11,523\n",
              "==========================================================================================\n",
              "Total params: 182,403\n",
              "Trainable params: 182,403\n",
              "Non-trainable params: 0\n",
              "Total mult-adds (M): 5.14\n",
              "==========================================================================================\n",
              "Input size (MB): 0.01\n",
              "Forward/backward pass size (MB): 0.03\n",
              "Params size (MB): 0.73\n",
              "Estimated Total Size (MB): 0.77\n",
              "=========================================================================================="
            ]
          },
          "metadata": {},
          "execution_count": 54
        }
      ]
    },
    {
      "cell_type": "code",
      "source": [
        "def train_step(model: torch.nn.Module, \n",
        "               dataloader: torch.utils.data.DataLoader, \n",
        "               loss_fn: torch.nn.Module, \n",
        "               optimizer: torch.optim.Optimizer):\n",
        "    # Put model in train mode\n",
        "    model.train()\n",
        "    \n",
        "    # Setup train loss and train accuracy values\n",
        "    train_loss, train_acc = 0, 0\n",
        "    \n",
        "    # Loop through data loader data batches\n",
        "    for batch, (X, y) in enumerate(dataloader):\n",
        "        X = X.reshape(-1, sequence_length, input_size).to(device)\n",
        "        # print(X.shape)\n",
        "        # Send data to target device\n",
        "        X, y = X.to(device), y.to(device)\n",
        "\n",
        "        # 1. Forward pass\n",
        "        y_pred = model(X.to(torch.float32))\n",
        "        # print(y_pred.shape)\n",
        "\n",
        "        # 2. Calculate  and accumulate loss\n",
        "        loss = loss_fn(y_pred, y)\n",
        "        train_loss += loss.item() \n",
        "\n",
        "        # 3. Optimizer zero grad\n",
        "        optimizer.zero_grad()\n",
        "\n",
        "        # 4. Loss backward\n",
        "        loss.backward()\n",
        "\n",
        "        # 5. Optimizer step\n",
        "        optimizer.step()\n",
        "\n",
        "        # Calculate and accumulate accuracy metric across all batches\n",
        "        y_pred_class = torch.argmax(torch.softmax(y_pred, dim=1), dim=1)\n",
        "        train_acc += (y_pred_class == y).sum().item()/len(y_pred)\n",
        "\n",
        "    # Adjust metrics to get average loss and accuracy per batch \n",
        "    train_loss = train_loss / len(dataloader)\n",
        "    train_acc = train_acc / len(dataloader)\n",
        "    return train_loss, train_acc"
      ],
      "metadata": {
        "id": "m2mNot-nOG5S"
      },
      "execution_count": 55,
      "outputs": []
    },
    {
      "cell_type": "code",
      "source": [
        "def test_step(model: torch.nn.Module, \n",
        "              dataloader: torch.utils.data.DataLoader, \n",
        "              loss_fn: torch.nn.Module):\n",
        "    # Put model in eval mode\n",
        "    model.eval() \n",
        "    \n",
        "    # Setup test loss and test accuracy values\n",
        "    test_loss, test_acc = 0, 0\n",
        "    \n",
        "    # Turn on inference context manager\n",
        "    with torch.inference_mode():\n",
        "        # Loop through DataLoader batches\n",
        "        for batch, (X, y) in enumerate(dataloader):\n",
        "            X = X.reshape(-1, sequence_length, input_size).to(device)\n",
        "\n",
        "            # Send data to target device\n",
        "            X, y = X.to(device), y.to(device)\n",
        "    \n",
        "            # 1. Forward pass\n",
        "            test_pred_logits = model(X.to(torch.float32))\n",
        "\n",
        "            # 2. Calculate and accumulate loss\n",
        "            loss = loss_fn(test_pred_logits, y)\n",
        "            test_loss += loss.item()\n",
        "            \n",
        "            # Calculate and accumulate accuracy\n",
        "            test_pred_labels = test_pred_logits.argmax(dim=1)\n",
        "            test_acc += ((test_pred_labels == y).sum().item()/len(test_pred_labels))\n",
        "            \n",
        "    # Adjust metrics to get average loss and accuracy per batch \n",
        "    test_loss = test_loss / len(dataloader)\n",
        "    test_acc = test_acc / len(dataloader)\n",
        "    return test_loss, test_acc"
      ],
      "metadata": {
        "id": "QHD0ORhON-Fb"
      },
      "execution_count": 56,
      "outputs": []
    },
    {
      "cell_type": "code",
      "source": [
        "from tqdm.auto import tqdm\n",
        "\n",
        "# 1. Take in various parameters required for training and test steps\n",
        "def train(model: torch.nn.Module, \n",
        "          train_dataloader: torch.utils.data.DataLoader, \n",
        "          test_dataloader: torch.utils.data.DataLoader, \n",
        "          optimizer: torch.optim.Optimizer,\n",
        "          loss_fn: torch.nn.Module = nn.CrossEntropyLoss(),\n",
        "          epochs: int = 5):\n",
        "    \n",
        "    # 2. Create empty results dictionary\n",
        "    results = {\"train_loss\": [],\n",
        "        \"train_acc\": [],\n",
        "        \"test_loss\": [],\n",
        "        \"test_acc\": []\n",
        "    }\n",
        "    \n",
        "    # 3. Loop through training and testing steps for a number of epochs\n",
        "    for epoch in tqdm(range(epochs)):\n",
        "        train_loss, train_acc = train_step(model=model,\n",
        "                                           dataloader=train_dataloader,\n",
        "                                           loss_fn=loss_fn,\n",
        "                                           optimizer=optimizer)\n",
        "        test_loss, test_acc = test_step(model=model,\n",
        "            dataloader=test_dataloader,\n",
        "            loss_fn=loss_fn)\n",
        "        \n",
        "        # 4. Print out what's happening\n",
        "        print(\n",
        "            f\"Epoch: {epoch+1} | \"\n",
        "            f\"train_loss: {train_loss:.4f} | \"\n",
        "            f\"train_acc: {train_acc:.4f} | \"\n",
        "            f\"test_loss: {test_loss:.4f} | \"\n",
        "            f\"test_acc: {test_acc:.4f}\"\n",
        "        )\n",
        "\n",
        "        # 5. Update results dictionary\n",
        "        results[\"train_loss\"].append(train_loss)\n",
        "        results[\"train_acc\"].append(train_acc)\n",
        "        results[\"test_loss\"].append(test_loss)\n",
        "        results[\"test_acc\"].append(test_acc)\n",
        "\n",
        "    # 6. Return the filled results at the end of the epochs\n",
        "    return results"
      ],
      "metadata": {
        "id": "lLB_b7A0NfnJ"
      },
      "execution_count": 57,
      "outputs": []
    },
    {
      "cell_type": "code",
      "source": [
        "# Set random seeds\n",
        "torch.manual_seed(42) \n",
        "torch.cuda.manual_seed(42)\n",
        "\n",
        "# Set number of epochs\n",
        "NUM_EPOCHS = 20\n",
        "\n",
        "# Recreate an instance of TinyVGG\n",
        "model = RNN1(input_size, # number of color channels (3 for RGB) \n",
        "                  hidden_size,\n",
        "                  num_layers,\n",
        "                  num_classes).to(device)\n",
        "\n",
        "# Setup loss function and optimizer\n",
        "loss_fn = nn.CrossEntropyLoss()\n",
        "optimizer = torch.optim.SGD(params=model.parameters(), lr=0.01)\n",
        "\n",
        "# Start the timer\n",
        "from timeit import default_timer as timer \n",
        "start_time = timer()\n",
        "\n",
        "# Train model_0 \n",
        "model_0_results = train(model=model, \n",
        "                        train_dataloader=train_dataloader,\n",
        "                        test_dataloader=test_dataloader,\n",
        "                        optimizer=optimizer,\n",
        "                        loss_fn=loss_fn, \n",
        "                        epochs=NUM_EPOCHS)\n",
        "\n",
        "# End the timer and print out how long it took\n",
        "end_time = timer()\n",
        "print(f\"Total training time: {end_time-start_time:.3f} seconds\")"
      ],
      "metadata": {
        "colab": {
          "base_uri": "https://localhost:8080/",
          "height": 414,
          "referenced_widgets": [
            "0432483f21f44d64a675fc4cb2e10a52",
            "84166c98d47047b58fa22b1ce636bb56",
            "0779ae2669d24463938e123a612a7a59",
            "5a79c6d640e64c7f9939b4883445df6b",
            "fa39657064284bc3a889a7c67e8fdce1",
            "0c6850c6a28c46e590f30baa8ffb0a5f",
            "897b8c39fd664e62b25bdf3291e81f22",
            "a053868f4b7e45c99483dda4dd774158",
            "455f214022474b21a9c725d56d1e2acf",
            "d2272ea7b6dd4b85906bf799d8aff883",
            "49bfd9e69a3d41ff8fc25a72ea865245"
          ]
        },
        "id": "euulQ5_1OIpS",
        "outputId": "b2185d94-8c96-4474-afca-522b3264a0f8"
      },
      "execution_count": 58,
      "outputs": [
        {
          "output_type": "display_data",
          "data": {
            "text/plain": [
              "  0%|          | 0/20 [00:00<?, ?it/s]"
            ],
            "application/vnd.jupyter.widget-view+json": {
              "version_major": 2,
              "version_minor": 0,
              "model_id": "0432483f21f44d64a675fc4cb2e10a52"
            }
          },
          "metadata": {}
        },
        {
          "output_type": "stream",
          "name": "stdout",
          "text": [
            "Epoch: 1 | train_loss: 1.1040 | train_acc: 0.3502 | test_loss: 1.0984 | test_acc: 0.3333\n",
            "Epoch: 2 | train_loss: 1.0978 | train_acc: 0.3529 | test_loss: 1.1089 | test_acc: 0.3221\n",
            "Epoch: 3 | train_loss: 1.0983 | train_acc: 0.3636 | test_loss: 1.1043 | test_acc: 0.3221\n",
            "Epoch: 4 | train_loss: 1.0974 | train_acc: 0.3644 | test_loss: 1.1123 | test_acc: 0.3221\n",
            "Epoch: 5 | train_loss: 1.0982 | train_acc: 0.3680 | test_loss: 1.1005 | test_acc: 0.3221\n",
            "Epoch: 6 | train_loss: 1.0974 | train_acc: 0.3698 | test_loss: 1.1091 | test_acc: 0.3221\n",
            "Epoch: 7 | train_loss: 1.0979 | train_acc: 0.3671 | test_loss: 1.1015 | test_acc: 0.3221\n",
            "Epoch: 8 | train_loss: 1.0983 | train_acc: 0.3627 | test_loss: 1.1046 | test_acc: 0.3221\n",
            "Epoch: 9 | train_loss: 1.0985 | train_acc: 0.3662 | test_loss: 1.1050 | test_acc: 0.3221\n",
            "Epoch: 10 | train_loss: 1.0982 | train_acc: 0.3689 | test_loss: 1.1015 | test_acc: 0.3221\n",
            "Epoch: 11 | train_loss: 1.0984 | train_acc: 0.3644 | test_loss: 1.1032 | test_acc: 0.3221\n",
            "Epoch: 12 | train_loss: 1.0980 | train_acc: 0.3680 | test_loss: 1.1021 | test_acc: 0.3221\n",
            "Epoch: 13 | train_loss: 1.0979 | train_acc: 0.3609 | test_loss: 1.1029 | test_acc: 0.3221\n",
            "Epoch: 14 | train_loss: 1.0982 | train_acc: 0.3627 | test_loss: 1.1042 | test_acc: 0.3221\n",
            "Epoch: 15 | train_loss: 1.0974 | train_acc: 0.3529 | test_loss: 1.1040 | test_acc: 0.3221\n",
            "Epoch: 16 | train_loss: 1.0987 | train_acc: 0.3689 | test_loss: 1.1024 | test_acc: 0.3221\n",
            "Epoch: 17 | train_loss: 1.0981 | train_acc: 0.3662 | test_loss: 1.1097 | test_acc: 0.3221\n",
            "Epoch: 18 | train_loss: 1.0988 | train_acc: 0.3653 | test_loss: 1.1055 | test_acc: 0.3221\n",
            "Epoch: 19 | train_loss: 1.0983 | train_acc: 0.3627 | test_loss: 1.1067 | test_acc: 0.3221\n",
            "Epoch: 20 | train_loss: 1.0985 | train_acc: 0.3689 | test_loss: 1.1068 | test_acc: 0.3221\n",
            "Total training time: 487.467 seconds\n"
          ]
        }
      ]
    },
    {
      "cell_type": "code",
      "source": [
        "# Check the model_0_results keys\n",
        "model_0_results.keys()"
      ],
      "metadata": {
        "colab": {
          "base_uri": "https://localhost:8080/"
        },
        "id": "jtC2BpYPOfmr",
        "outputId": "6fd86cbf-dde2-46cf-cf1f-3ff7dd23f0e5"
      },
      "execution_count": 95,
      "outputs": [
        {
          "output_type": "execute_result",
          "data": {
            "text/plain": [
              "dict_keys(['train_loss', 'train_acc', 'test_loss', 'test_acc'])"
            ]
          },
          "metadata": {},
          "execution_count": 95
        }
      ]
    },
    {
      "cell_type": "code",
      "source": [
        "def plot_loss_curves(results):\n",
        "    \"\"\"Plots training curves of a results dictionary.\n",
        "\n",
        "    Args:\n",
        "        results (dict): dictionary containing list of values, e.g.\n",
        "            {\"train_loss\": [...],\n",
        "             \"train_acc\": [...],\n",
        "             \"test_loss\": [...],\n",
        "             \"test_acc\": [...]}\n",
        "    \"\"\"\n",
        "    \n",
        "    # Get the loss values of the results dictionary (training and test)\n",
        "    loss = results['train_loss']\n",
        "    test_loss = results['test_loss']\n",
        "\n",
        "    # Get the accuracy values of the results dictionary (training and test)\n",
        "    accuracy = results['train_acc']\n",
        "    test_accuracy = results['test_acc']\n",
        "\n",
        "    # Figure out how many epochs there were\n",
        "    epochs = range(len(results['train_loss']))\n",
        "\n",
        "    # Setup a plot \n",
        "    plt.figure(figsize=(15, 7))\n",
        "\n",
        "    # Plot loss\n",
        "    plt.subplot(1, 2, 1)\n",
        "    plt.plot(epochs, loss, label='train_loss')\n",
        "    plt.plot(epochs, test_loss, label='test_loss')\n",
        "    plt.title('Loss')\n",
        "    plt.xlabel('Epochs')\n",
        "    plt.legend()\n",
        "\n",
        "    # Plot accuracy\n",
        "    plt.subplot(1, 2, 2)\n",
        "    plt.plot(epochs, accuracy, label='train_accuracy')\n",
        "    plt.plot(epochs, test_accuracy, label='test_accuracy')\n",
        "    plt.title('Accuracy')\n",
        "    plt.xlabel('Epochs')\n",
        "    plt.legend();"
      ],
      "metadata": {
        "id": "KEyoo3pwOfjy"
      },
      "execution_count": 64,
      "outputs": []
    },
    {
      "cell_type": "code",
      "source": [
        "plot_loss_curves(model_0_results)"
      ],
      "metadata": {
        "colab": {
          "base_uri": "https://localhost:8080/",
          "height": 458
        },
        "id": "XHWP6BG7OfhC",
        "outputId": "05ae0605-23a3-4f5e-df60-404614736ddb"
      },
      "execution_count": 65,
      "outputs": [
        {
          "output_type": "display_data",
          "data": {
            "text/plain": [
              "<Figure size 1080x504 with 2 Axes>"
            ],
            "image/png": "[encoded data removed]"
          },
          "metadata": {
            "needs_background": "light"
          }
        }
      ]
    },
    {
      "cell_type": "code",
      "source": [
        "np.array([[[1,2],\n",
        "          [3,4]],\n",
        "         [[1,2],\n",
        "          [3,4]],\n",
        "         [[5,6],\n",
        "          [7,8]],\n",
        "         [[5,6],\n",
        "          [7,8]],\n",
        "         [[5,6],\n",
        "          [7,8]]]).reshape(5,4)"
      ],
      "metadata": {
        "colab": {
          "base_uri": "https://localhost:8080/"
        },
        "id": "urQa6UUgRTqg",
        "outputId": "5eebd8b8-ac73-4c0c-fe41-22da3f956130"
      },
      "execution_count": 82,
      "outputs": [
        {
          "output_type": "execute_result",
          "data": {
            "text/plain": [
              "array([[1, 2, 3, 4],\n",
              "       [1, 2, 3, 4],\n",
              "       [5, 6, 7, 8],\n",
              "       [5, 6, 7, 8],\n",
              "       [5, 6, 7, 8]])"
            ]
          },
          "metadata": {},
          "execution_count": 82
        }
      ]
    }
  ]
}